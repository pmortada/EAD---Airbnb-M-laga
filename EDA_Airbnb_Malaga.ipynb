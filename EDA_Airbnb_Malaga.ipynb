{
 "cells": [
  {
   "cell_type": "markdown",
   "metadata": {},
   "source": [
    "# EDA of the Airbnb listings in Málaga"
   ]
  },
  {
   "cell_type": "markdown",
   "metadata": {},
   "source": [
    "## Introduction\n",
    "This analysis is based on previous studies performed at the Dasta Analysis Bootcamp of CodeOp.<br>\n",
    "The objective of this EDA is to identify which features (reviews, bed, neighbourhood, instant bookable, etc) can most affect the price asked.<br>\n",
    "This noteboomp is composed of two parts:\n",
    "- Dataframe cleaning\n",
    "- Graphs creation\n"
   ]
  },
  {
   "cell_type": "markdown",
   "metadata": {},
   "source": [
    "### Part 1 - Cleaning"
   ]
  },
  {
   "cell_type": "code",
   "execution_count": 5,
   "metadata": {},
   "outputs": [],
   "source": [
    "import pandas as pd\n",
    "import seaborn as sns\n"
   ]
  },
  {
   "cell_type": "code",
   "execution_count": 6,
   "metadata": {},
   "outputs": [],
   "source": [
    "listings = pd.read_csv('listings_EDA.csv')"
   ]
  },
  {
   "cell_type": "code",
   "execution_count": 7,
   "metadata": {},
   "outputs": [
    {
     "data": {
      "text/html": [
       "<div>\n",
       "<style scoped>\n",
       "    .dataframe tbody tr th:only-of-type {\n",
       "        vertical-align: middle;\n",
       "    }\n",
       "\n",
       "    .dataframe tbody tr th {\n",
       "        vertical-align: top;\n",
       "    }\n",
       "\n",
       "    .dataframe thead th {\n",
       "        text-align: right;\n",
       "    }\n",
       "</style>\n",
       "<table border=\"1\" class=\"dataframe\">\n",
       "  <thead>\n",
       "    <tr style=\"text-align: right;\">\n",
       "      <th></th>\n",
       "      <th>id</th>\n",
       "      <th>listing_url</th>\n",
       "      <th>scrape_id</th>\n",
       "      <th>last_scraped</th>\n",
       "      <th>source</th>\n",
       "      <th>name</th>\n",
       "      <th>description</th>\n",
       "      <th>neighborhood_overview</th>\n",
       "      <th>picture_url</th>\n",
       "      <th>host_id</th>\n",
       "      <th>...</th>\n",
       "      <th>review_scores_communication</th>\n",
       "      <th>review_scores_location</th>\n",
       "      <th>review_scores_value</th>\n",
       "      <th>license</th>\n",
       "      <th>instant_bookable</th>\n",
       "      <th>calculated_host_listings_count</th>\n",
       "      <th>calculated_host_listings_count_entire_homes</th>\n",
       "      <th>calculated_host_listings_count_private_rooms</th>\n",
       "      <th>calculated_host_listings_count_shared_rooms</th>\n",
       "      <th>reviews_per_month</th>\n",
       "    </tr>\n",
       "  </thead>\n",
       "  <tbody>\n",
       "    <tr>\n",
       "      <th>0</th>\n",
       "      <td>96033</td>\n",
       "      <td>https://www.airbnb.com/rooms/96033</td>\n",
       "      <td>20231231043937</td>\n",
       "      <td>2023-12-31</td>\n",
       "      <td>city scrape</td>\n",
       "      <td>Rental unit in Málaga · ★4.62 · 2 bedrooms · 2...</td>\n",
       "      <td>NaN</td>\n",
       "      <td>A 200 metros de las playas de El Palo, antiguo...</td>\n",
       "      <td>https://a0.muscache.com/pictures/32780788/e487...</td>\n",
       "      <td>510467</td>\n",
       "      <td>...</td>\n",
       "      <td>4.92</td>\n",
       "      <td>4.40</td>\n",
       "      <td>4.60</td>\n",
       "      <td>VFT/MA/22043</td>\n",
       "      <td>f</td>\n",
       "      <td>1</td>\n",
       "      <td>1</td>\n",
       "      <td>0</td>\n",
       "      <td>0</td>\n",
       "      <td>1.66</td>\n",
       "    </tr>\n",
       "    <tr>\n",
       "      <th>1</th>\n",
       "      <td>166473</td>\n",
       "      <td>https://www.airbnb.com/rooms/166473</td>\n",
       "      <td>20231231043937</td>\n",
       "      <td>2023-12-31</td>\n",
       "      <td>city scrape</td>\n",
       "      <td>Rental unit in Málaga · ★4.73 · 1 bedroom · 4 ...</td>\n",
       "      <td>NaN</td>\n",
       "      <td>NaN</td>\n",
       "      <td>https://a0.muscache.com/pictures/miso/Hosting-...</td>\n",
       "      <td>793360</td>\n",
       "      <td>...</td>\n",
       "      <td>4.91</td>\n",
       "      <td>4.81</td>\n",
       "      <td>4.70</td>\n",
       "      <td>NaN</td>\n",
       "      <td>f</td>\n",
       "      <td>4</td>\n",
       "      <td>0</td>\n",
       "      <td>4</td>\n",
       "      <td>0</td>\n",
       "      <td>0.63</td>\n",
       "    </tr>\n",
       "    <tr>\n",
       "      <th>2</th>\n",
       "      <td>212845</td>\n",
       "      <td>https://www.airbnb.com/rooms/212845</td>\n",
       "      <td>20231231043937</td>\n",
       "      <td>2023-12-31</td>\n",
       "      <td>city scrape</td>\n",
       "      <td>Rental unit in Málaga · ★4.81 · 1 bedroom · 2 ...</td>\n",
       "      <td>NaN</td>\n",
       "      <td>NaN</td>\n",
       "      <td>https://a0.muscache.com/pictures/d4a19330-03c4...</td>\n",
       "      <td>617998</td>\n",
       "      <td>...</td>\n",
       "      <td>4.88</td>\n",
       "      <td>4.57</td>\n",
       "      <td>4.76</td>\n",
       "      <td>VFT/MA/09354</td>\n",
       "      <td>f</td>\n",
       "      <td>2</td>\n",
       "      <td>0</td>\n",
       "      <td>1</td>\n",
       "      <td>1</td>\n",
       "      <td>0.30</td>\n",
       "    </tr>\n",
       "    <tr>\n",
       "      <th>3</th>\n",
       "      <td>330760</td>\n",
       "      <td>https://www.airbnb.com/rooms/330760</td>\n",
       "      <td>20231231043937</td>\n",
       "      <td>2023-12-31</td>\n",
       "      <td>city scrape</td>\n",
       "      <td>Townhouse in Málaga · ★4.50 · 1 bedroom · 1 be...</td>\n",
       "      <td>NaN</td>\n",
       "      <td>Málaga Lodge is situated next to the famous Sa...</td>\n",
       "      <td>https://a0.muscache.com/pictures/85419390/38a9...</td>\n",
       "      <td>1687526</td>\n",
       "      <td>...</td>\n",
       "      <td>4.58</td>\n",
       "      <td>4.48</td>\n",
       "      <td>4.45</td>\n",
       "      <td>VFT/MA/12240</td>\n",
       "      <td>t</td>\n",
       "      <td>6</td>\n",
       "      <td>4</td>\n",
       "      <td>2</td>\n",
       "      <td>0</td>\n",
       "      <td>0.38</td>\n",
       "    </tr>\n",
       "    <tr>\n",
       "      <th>4</th>\n",
       "      <td>340024</td>\n",
       "      <td>https://www.airbnb.com/rooms/340024</td>\n",
       "      <td>20231231043937</td>\n",
       "      <td>2023-12-31</td>\n",
       "      <td>city scrape</td>\n",
       "      <td>Rental unit in Málaga · ★4.83 · 1 bedroom · 1 ...</td>\n",
       "      <td>NaN</td>\n",
       "      <td>It is a central area and has all kinds of serv...</td>\n",
       "      <td>https://a0.muscache.com/pictures/e5a7e85a-ad98...</td>\n",
       "      <td>1725690</td>\n",
       "      <td>...</td>\n",
       "      <td>4.83</td>\n",
       "      <td>4.72</td>\n",
       "      <td>4.79</td>\n",
       "      <td>VFT/MA/02334</td>\n",
       "      <td>f</td>\n",
       "      <td>1</td>\n",
       "      <td>1</td>\n",
       "      <td>0</td>\n",
       "      <td>0</td>\n",
       "      <td>1.86</td>\n",
       "    </tr>\n",
       "  </tbody>\n",
       "</table>\n",
       "<p>5 rows × 75 columns</p>\n",
       "</div>"
      ],
      "text/plain": [
       "       id                          listing_url       scrape_id last_scraped  \\\n",
       "0   96033   https://www.airbnb.com/rooms/96033  20231231043937   2023-12-31   \n",
       "1  166473  https://www.airbnb.com/rooms/166473  20231231043937   2023-12-31   \n",
       "2  212845  https://www.airbnb.com/rooms/212845  20231231043937   2023-12-31   \n",
       "3  330760  https://www.airbnb.com/rooms/330760  20231231043937   2023-12-31   \n",
       "4  340024  https://www.airbnb.com/rooms/340024  20231231043937   2023-12-31   \n",
       "\n",
       "        source                                               name  \\\n",
       "0  city scrape  Rental unit in Málaga · ★4.62 · 2 bedrooms · 2...   \n",
       "1  city scrape  Rental unit in Málaga · ★4.73 · 1 bedroom · 4 ...   \n",
       "2  city scrape  Rental unit in Málaga · ★4.81 · 1 bedroom · 2 ...   \n",
       "3  city scrape  Townhouse in Málaga · ★4.50 · 1 bedroom · 1 be...   \n",
       "4  city scrape  Rental unit in Málaga · ★4.83 · 1 bedroom · 1 ...   \n",
       "\n",
       "   description                              neighborhood_overview  \\\n",
       "0          NaN  A 200 metros de las playas de El Palo, antiguo...   \n",
       "1          NaN                                                NaN   \n",
       "2          NaN                                                NaN   \n",
       "3          NaN  Málaga Lodge is situated next to the famous Sa...   \n",
       "4          NaN  It is a central area and has all kinds of serv...   \n",
       "\n",
       "                                         picture_url  host_id  ...  \\\n",
       "0  https://a0.muscache.com/pictures/32780788/e487...   510467  ...   \n",
       "1  https://a0.muscache.com/pictures/miso/Hosting-...   793360  ...   \n",
       "2  https://a0.muscache.com/pictures/d4a19330-03c4...   617998  ...   \n",
       "3  https://a0.muscache.com/pictures/85419390/38a9...  1687526  ...   \n",
       "4  https://a0.muscache.com/pictures/e5a7e85a-ad98...  1725690  ...   \n",
       "\n",
       "  review_scores_communication review_scores_location review_scores_value  \\\n",
       "0                        4.92                   4.40                4.60   \n",
       "1                        4.91                   4.81                4.70   \n",
       "2                        4.88                   4.57                4.76   \n",
       "3                        4.58                   4.48                4.45   \n",
       "4                        4.83                   4.72                4.79   \n",
       "\n",
       "        license instant_bookable calculated_host_listings_count  \\\n",
       "0  VFT/MA/22043                f                              1   \n",
       "1           NaN                f                              4   \n",
       "2  VFT/MA/09354                f                              2   \n",
       "3  VFT/MA/12240                t                              6   \n",
       "4  VFT/MA/02334                f                              1   \n",
       "\n",
       "  calculated_host_listings_count_entire_homes  \\\n",
       "0                                           1   \n",
       "1                                           0   \n",
       "2                                           0   \n",
       "3                                           4   \n",
       "4                                           1   \n",
       "\n",
       "  calculated_host_listings_count_private_rooms  \\\n",
       "0                                            0   \n",
       "1                                            4   \n",
       "2                                            1   \n",
       "3                                            2   \n",
       "4                                            0   \n",
       "\n",
       "  calculated_host_listings_count_shared_rooms reviews_per_month  \n",
       "0                                           0              1.66  \n",
       "1                                           0              0.63  \n",
       "2                                           1              0.30  \n",
       "3                                           0              0.38  \n",
       "4                                           0              1.86  \n",
       "\n",
       "[5 rows x 75 columns]"
      ]
     },
     "execution_count": 7,
     "metadata": {},
     "output_type": "execute_result"
    }
   ],
   "source": [
    "listings.head()"
   ]
  },
  {
   "cell_type": "markdown",
   "metadata": {},
   "source": [
    "### Cleaning Steps:"
   ]
  },
  {
   "cell_type": "markdown",
   "metadata": {},
   "source": [
    "1. Do a for loop to identify how many Nans there are in each column."
   ]
  },
  {
   "cell_type": "code",
   "execution_count": 8,
   "metadata": {},
   "outputs": [
    {
     "name": "stdout",
     "output_type": "stream",
     "text": [
      "id 0\n",
      "listing_url 0\n",
      "scrape_id 0\n",
      "last_scraped 0\n",
      "source 0\n",
      "name 0\n",
      "description 7783\n",
      "neighborhood_overview 4020\n",
      "picture_url 0\n",
      "host_id 0\n",
      "host_url 0\n",
      "host_name 0\n",
      "host_since 0\n",
      "host_location 1782\n",
      "host_about 3287\n",
      "host_response_time 625\n",
      "host_response_rate 625\n",
      "host_acceptance_rate 330\n",
      "host_is_superhost 35\n",
      "host_thumbnail_url 0\n",
      "host_picture_url 0\n",
      "host_neighbourhood 7052\n",
      "host_listings_count 0\n",
      "host_total_listings_count 0\n",
      "host_verifications 0\n",
      "host_has_profile_pic 0\n",
      "host_identity_verified 0\n",
      "neighbourhood 4020\n",
      "neighbourhood_cleansed 0\n",
      "neighbourhood_group_cleansed 7783\n",
      "latitude 0\n",
      "longitude 0\n",
      "property_type 0\n",
      "room_type 0\n",
      "accommodates 0\n",
      "bathrooms 7783\n",
      "bathrooms_text 0\n",
      "bedrooms 7783\n",
      "beds 86\n",
      "amenities 0\n",
      "price 64\n",
      "minimum_nights 0\n",
      "maximum_nights 0\n",
      "minimum_minimum_nights 0\n",
      "maximum_minimum_nights 0\n",
      "minimum_maximum_nights 0\n",
      "maximum_maximum_nights 0\n",
      "minimum_nights_avg_ntm 0\n",
      "maximum_nights_avg_ntm 0\n",
      "calendar_updated 7783\n",
      "has_availability 64\n",
      "availability_30 0\n",
      "availability_60 0\n",
      "availability_90 0\n",
      "availability_365 0\n",
      "calendar_last_scraped 0\n",
      "number_of_reviews 0\n",
      "number_of_reviews_ltm 0\n",
      "number_of_reviews_l30d 0\n",
      "first_review 927\n",
      "last_review 927\n",
      "review_scores_rating 926\n",
      "review_scores_accuracy 926\n",
      "review_scores_cleanliness 926\n",
      "review_scores_checkin 926\n",
      "review_scores_communication 926\n",
      "review_scores_location 926\n",
      "review_scores_value 926\n",
      "license 135\n",
      "instant_bookable 0\n",
      "calculated_host_listings_count 0\n",
      "calculated_host_listings_count_entire_homes 0\n",
      "calculated_host_listings_count_private_rooms 0\n",
      "calculated_host_listings_count_shared_rooms 0\n",
      "reviews_per_month 927\n"
     ]
    }
   ],
   "source": [
    "\n",
    "for column in listings.columns:\n",
    "    nans_columns = listings[column].isna().sum()\n",
    "    print (column, nans_columns) "
   ]
  },
  {
   "cell_type": "markdown",
   "metadata": {},
   "source": [
    "2. Verify the shape of the original data."
   ]
  },
  {
   "cell_type": "code",
   "execution_count": 9,
   "metadata": {},
   "outputs": [
    {
     "data": {
      "text/plain": [
       "(7783, 75)"
      ]
     },
     "execution_count": 9,
     "metadata": {},
     "output_type": "execute_result"
    }
   ],
   "source": [
    "listings.shape"
   ]
  },
  {
   "cell_type": "markdown",
   "metadata": {},
   "source": [
    "3. Create a copy so that I could leave the original data untouched."
   ]
  },
  {
   "cell_type": "code",
   "execution_count": 10,
   "metadata": {},
   "outputs": [],
   "source": [
    "listings_clean = listings.copy()"
   ]
  },
  {
   "cell_type": "markdown",
   "metadata": {},
   "source": [
    "With the for loop performed I identified that the following columns had only NANs:<br>\n",
    "\n",
    "- description\n",
    "- neighbourhood_group_cleansed\n",
    "-  bathrooms\n",
    "-  bedrooms\n",
    "-  calendar_updated\n"
   ]
  },
  {
   "cell_type": "markdown",
   "metadata": {},
   "source": [
    "4. Use dropna all to delete themthe columns that have all NANs."
   ]
  },
  {
   "cell_type": "code",
   "execution_count": 11,
   "metadata": {},
   "outputs": [],
   "source": [
    "#drop the columns that are all Nans\n",
    "listings_clean.dropna(axis=1, how='all', inplace = True)\n"
   ]
  },
  {
   "cell_type": "markdown",
   "metadata": {},
   "source": [
    "5. Check the shape after dropping the columns."
   ]
  },
  {
   "cell_type": "code",
   "execution_count": 12,
   "metadata": {},
   "outputs": [
    {
     "data": {
      "text/plain": [
       "70"
      ]
     },
     "execution_count": 12,
     "metadata": {},
     "output_type": "execute_result"
    }
   ],
   "source": [
    "listings_clean.shape[1]"
   ]
  },
  {
   "cell_type": "markdown",
   "metadata": {},
   "source": [
    "6. Check the data info."
   ]
  },
  {
   "cell_type": "code",
   "execution_count": 13,
   "metadata": {},
   "outputs": [
    {
     "name": "stdout",
     "output_type": "stream",
     "text": [
      "<class 'pandas.core.frame.DataFrame'>\n",
      "RangeIndex: 7783 entries, 0 to 7782\n",
      "Data columns (total 70 columns):\n",
      " #   Column                                        Non-Null Count  Dtype  \n",
      "---  ------                                        --------------  -----  \n",
      " 0   id                                            7783 non-null   int64  \n",
      " 1   listing_url                                   7783 non-null   object \n",
      " 2   scrape_id                                     7783 non-null   int64  \n",
      " 3   last_scraped                                  7783 non-null   object \n",
      " 4   source                                        7783 non-null   object \n",
      " 5   name                                          7783 non-null   object \n",
      " 6   neighborhood_overview                         3763 non-null   object \n",
      " 7   picture_url                                   7783 non-null   object \n",
      " 8   host_id                                       7783 non-null   int64  \n",
      " 9   host_url                                      7783 non-null   object \n",
      " 10  host_name                                     7783 non-null   object \n",
      " 11  host_since                                    7783 non-null   object \n",
      " 12  host_location                                 6001 non-null   object \n",
      " 13  host_about                                    4496 non-null   object \n",
      " 14  host_response_time                            7158 non-null   object \n",
      " 15  host_response_rate                            7158 non-null   object \n",
      " 16  host_acceptance_rate                          7453 non-null   object \n",
      " 17  host_is_superhost                             7748 non-null   object \n",
      " 18  host_thumbnail_url                            7783 non-null   object \n",
      " 19  host_picture_url                              7783 non-null   object \n",
      " 20  host_neighbourhood                            731 non-null    object \n",
      " 21  host_listings_count                           7783 non-null   int64  \n",
      " 22  host_total_listings_count                     7783 non-null   int64  \n",
      " 23  host_verifications                            7783 non-null   object \n",
      " 24  host_has_profile_pic                          7783 non-null   object \n",
      " 25  host_identity_verified                        7783 non-null   object \n",
      " 26  neighbourhood                                 3763 non-null   object \n",
      " 27  neighbourhood_cleansed                        7783 non-null   object \n",
      " 28  latitude                                      7783 non-null   float64\n",
      " 29  longitude                                     7783 non-null   float64\n",
      " 30  property_type                                 7783 non-null   object \n",
      " 31  room_type                                     7783 non-null   object \n",
      " 32  accommodates                                  7783 non-null   int64  \n",
      " 33  bathrooms_text                                7783 non-null   object \n",
      " 34  beds                                          7697 non-null   float64\n",
      " 35  amenities                                     7783 non-null   object \n",
      " 36  price                                         7719 non-null   object \n",
      " 37  minimum_nights                                7783 non-null   int64  \n",
      " 38  maximum_nights                                7783 non-null   int64  \n",
      " 39  minimum_minimum_nights                        7783 non-null   int64  \n",
      " 40  maximum_minimum_nights                        7783 non-null   int64  \n",
      " 41  minimum_maximum_nights                        7783 non-null   int64  \n",
      " 42  maximum_maximum_nights                        7783 non-null   int64  \n",
      " 43  minimum_nights_avg_ntm                        7783 non-null   float64\n",
      " 44  maximum_nights_avg_ntm                        7783 non-null   float64\n",
      " 45  has_availability                              7719 non-null   object \n",
      " 46  availability_30                               7783 non-null   int64  \n",
      " 47  availability_60                               7783 non-null   int64  \n",
      " 48  availability_90                               7783 non-null   int64  \n",
      " 49  availability_365                              7783 non-null   int64  \n",
      " 50  calendar_last_scraped                         7783 non-null   object \n",
      " 51  number_of_reviews                             7783 non-null   int64  \n",
      " 52  number_of_reviews_ltm                         7783 non-null   int64  \n",
      " 53  number_of_reviews_l30d                        7783 non-null   int64  \n",
      " 54  first_review                                  6856 non-null   object \n",
      " 55  last_review                                   6856 non-null   object \n",
      " 56  review_scores_rating                          6857 non-null   float64\n",
      " 57  review_scores_accuracy                        6857 non-null   float64\n",
      " 58  review_scores_cleanliness                     6857 non-null   float64\n",
      " 59  review_scores_checkin                         6857 non-null   float64\n",
      " 60  review_scores_communication                   6857 non-null   float64\n",
      " 61  review_scores_location                        6857 non-null   float64\n",
      " 62  review_scores_value                           6857 non-null   float64\n",
      " 63  license                                       7648 non-null   object \n",
      " 64  instant_bookable                              7783 non-null   object \n",
      " 65  calculated_host_listings_count                7783 non-null   int64  \n",
      " 66  calculated_host_listings_count_entire_homes   7783 non-null   int64  \n",
      " 67  calculated_host_listings_count_private_rooms  7783 non-null   int64  \n",
      " 68  calculated_host_listings_count_shared_rooms   7783 non-null   int64  \n",
      " 69  reviews_per_month                             6856 non-null   float64\n",
      "dtypes: float64(13), int64(23), object(34)\n",
      "memory usage: 4.2+ MB\n"
     ]
    }
   ],
   "source": [
    "listings_clean.info()"
   ]
  },
  {
   "cell_type": "markdown",
   "metadata": {},
   "source": [
    "As there are some columns that have most of the info as NANs, it is not possible to perform the dropna to delete the empty rows straight away."
   ]
  },
  {
   "cell_type": "markdown",
   "metadata": {},
   "source": [
    "7. Drop the collumns that won't be used in this analysis."
   ]
  },
  {
   "cell_type": "code",
   "execution_count": 14,
   "metadata": {},
   "outputs": [],
   "source": [
    "#dropping the the columns that I wont be using as well as the columns with large amount of nans so that it doesn't affect the drop rows with Nans \n",
    "listings_clean.drop(\n",
    "    [\n",
    "    'listing_url', 'scrape_id','last_scraped',\n",
    "    'source', 'name', 'neighborhood_overview',\n",
    "    'host_neighbourhood','picture_url',\n",
    "    'host_id', 'host_url','host_name',\n",
    "    'host_location','host_about', 'host_thumbnail_url', 'neighbourhood',\n",
    "    'host_picture_url','host_neighbourhood', 'calendar_last_scraped', 'license'\n",
    "\n",
    "    ], \n",
    "    axis=1, inplace = True\n",
    "    )"
   ]
  },
  {
   "cell_type": "markdown",
   "metadata": {},
   "source": [
    "8. Check the shape."
   ]
  },
  {
   "cell_type": "code",
   "execution_count": 15,
   "metadata": {},
   "outputs": [
    {
     "data": {
      "text/plain": [
       "(7783, 52)"
      ]
     },
     "execution_count": 15,
     "metadata": {},
     "output_type": "execute_result"
    }
   ],
   "source": [
    "listings_clean.shape"
   ]
  },
  {
   "cell_type": "markdown",
   "metadata": {},
   "source": [
    "9. Check the other columns with NANs."
   ]
  },
  {
   "cell_type": "code",
   "execution_count": 16,
   "metadata": {},
   "outputs": [
    {
     "data": {
      "text/plain": [
       "id                                                0\n",
       "host_since                                        0\n",
       "host_response_time                              625\n",
       "host_response_rate                              625\n",
       "host_acceptance_rate                            330\n",
       "host_is_superhost                                35\n",
       "host_listings_count                               0\n",
       "host_total_listings_count                         0\n",
       "host_verifications                                0\n",
       "host_has_profile_pic                              0\n",
       "host_identity_verified                            0\n",
       "neighbourhood_cleansed                            0\n",
       "latitude                                          0\n",
       "longitude                                         0\n",
       "property_type                                     0\n",
       "room_type                                         0\n",
       "accommodates                                      0\n",
       "bathrooms_text                                    0\n",
       "beds                                             86\n",
       "amenities                                         0\n",
       "price                                            64\n",
       "minimum_nights                                    0\n",
       "maximum_nights                                    0\n",
       "minimum_minimum_nights                            0\n",
       "maximum_minimum_nights                            0\n",
       "minimum_maximum_nights                            0\n",
       "maximum_maximum_nights                            0\n",
       "minimum_nights_avg_ntm                            0\n",
       "maximum_nights_avg_ntm                            0\n",
       "has_availability                                 64\n",
       "availability_30                                   0\n",
       "availability_60                                   0\n",
       "availability_90                                   0\n",
       "availability_365                                  0\n",
       "number_of_reviews                                 0\n",
       "number_of_reviews_ltm                             0\n",
       "number_of_reviews_l30d                            0\n",
       "first_review                                    927\n",
       "last_review                                     927\n",
       "review_scores_rating                            926\n",
       "review_scores_accuracy                          926\n",
       "review_scores_cleanliness                       926\n",
       "review_scores_checkin                           926\n",
       "review_scores_communication                     926\n",
       "review_scores_location                          926\n",
       "review_scores_value                             926\n",
       "instant_bookable                                  0\n",
       "calculated_host_listings_count                    0\n",
       "calculated_host_listings_count_entire_homes       0\n",
       "calculated_host_listings_count_private_rooms      0\n",
       "calculated_host_listings_count_shared_rooms       0\n",
       "reviews_per_month                               927\n",
       "dtype: int64"
      ]
     },
     "execution_count": 16,
     "metadata": {},
     "output_type": "execute_result"
    }
   ],
   "source": [
    "listings_clean.isna().sum()"
   ]
  },
  {
   "cell_type": "markdown",
   "metadata": {},
   "source": [
    "10. Check the type of the columns:\n",
    "- host_response_time\n",
    "- host_response_rate\n",
    "- host_acceptance_rate \n"
   ]
  },
  {
   "cell_type": "code",
   "execution_count": 17,
   "metadata": {},
   "outputs": [
    {
     "data": {
      "text/plain": [
       "host_response_time      object\n",
       "host_response_rate      object\n",
       "host_acceptance_rate    object\n",
       "dtype: object"
      ]
     },
     "execution_count": 17,
     "metadata": {},
     "output_type": "execute_result"
    }
   ],
   "source": [
    "listings_clean[['host_response_time', 'host_response_rate', 'host_acceptance_rate']].dtypes"
   ]
  },
  {
   "cell_type": "code",
   "execution_count": 18,
   "metadata": {},
   "outputs": [
    {
     "data": {
      "text/plain": [
       "0           within an hour\n",
       "1       within a few hours\n",
       "2       within a few hours\n",
       "3           within an hour\n",
       "4           within an hour\n",
       "               ...        \n",
       "7778                   NaN\n",
       "7779        within an hour\n",
       "7780        within an hour\n",
       "7781          within a day\n",
       "7782                   NaN\n",
       "Name: host_response_time, Length: 7783, dtype: object"
      ]
     },
     "execution_count": 18,
     "metadata": {},
     "output_type": "execute_result"
    }
   ],
   "source": [
    "listings_clean['host_response_time']"
   ]
  },
  {
   "cell_type": "markdown",
   "metadata": {},
   "source": [
    "11. Check the values of acceptance and response:"
   ]
  },
  {
   "cell_type": "code",
   "execution_count": 19,
   "metadata": {},
   "outputs": [
    {
     "data": {
      "text/html": [
       "<div>\n",
       "<style scoped>\n",
       "    .dataframe tbody tr th:only-of-type {\n",
       "        vertical-align: middle;\n",
       "    }\n",
       "\n",
       "    .dataframe tbody tr th {\n",
       "        vertical-align: top;\n",
       "    }\n",
       "\n",
       "    .dataframe thead th {\n",
       "        text-align: right;\n",
       "    }\n",
       "</style>\n",
       "<table border=\"1\" class=\"dataframe\">\n",
       "  <thead>\n",
       "    <tr style=\"text-align: right;\">\n",
       "      <th></th>\n",
       "      <th>host_acceptance_rate</th>\n",
       "      <th>host_response_rate</th>\n",
       "    </tr>\n",
       "  </thead>\n",
       "  <tbody>\n",
       "    <tr>\n",
       "      <th>0</th>\n",
       "      <td>100%</td>\n",
       "      <td>100%</td>\n",
       "    </tr>\n",
       "    <tr>\n",
       "      <th>1</th>\n",
       "      <td>78%</td>\n",
       "      <td>100%</td>\n",
       "    </tr>\n",
       "    <tr>\n",
       "      <th>2</th>\n",
       "      <td>94%</td>\n",
       "      <td>100%</td>\n",
       "    </tr>\n",
       "    <tr>\n",
       "      <th>3</th>\n",
       "      <td>99%</td>\n",
       "      <td>100%</td>\n",
       "    </tr>\n",
       "    <tr>\n",
       "      <th>4</th>\n",
       "      <td>100%</td>\n",
       "      <td>100%</td>\n",
       "    </tr>\n",
       "    <tr>\n",
       "      <th>...</th>\n",
       "      <td>...</td>\n",
       "      <td>...</td>\n",
       "    </tr>\n",
       "    <tr>\n",
       "      <th>7778</th>\n",
       "      <td>85%</td>\n",
       "      <td>NaN</td>\n",
       "    </tr>\n",
       "    <tr>\n",
       "      <th>7779</th>\n",
       "      <td>100%</td>\n",
       "      <td>100%</td>\n",
       "    </tr>\n",
       "    <tr>\n",
       "      <th>7780</th>\n",
       "      <td>100%</td>\n",
       "      <td>100%</td>\n",
       "    </tr>\n",
       "    <tr>\n",
       "      <th>7781</th>\n",
       "      <td>100%</td>\n",
       "      <td>100%</td>\n",
       "    </tr>\n",
       "    <tr>\n",
       "      <th>7782</th>\n",
       "      <td>89%</td>\n",
       "      <td>NaN</td>\n",
       "    </tr>\n",
       "  </tbody>\n",
       "</table>\n",
       "<p>7783 rows × 2 columns</p>\n",
       "</div>"
      ],
      "text/plain": [
       "     host_acceptance_rate host_response_rate\n",
       "0                    100%               100%\n",
       "1                     78%               100%\n",
       "2                     94%               100%\n",
       "3                     99%               100%\n",
       "4                    100%               100%\n",
       "...                   ...                ...\n",
       "7778                  85%                NaN\n",
       "7779                 100%               100%\n",
       "7780                 100%               100%\n",
       "7781                 100%               100%\n",
       "7782                  89%                NaN\n",
       "\n",
       "[7783 rows x 2 columns]"
      ]
     },
     "execution_count": 19,
     "metadata": {},
     "output_type": "execute_result"
    }
   ],
   "source": [
    "listings_clean[['host_acceptance_rate', 'host_response_rate']]\t"
   ]
  },
  {
   "cell_type": "markdown",
   "metadata": {},
   "source": [
    "These two columns figure as an object, but they are percentage, so we need first change into float to deal with the NANs."
   ]
  },
  {
   "cell_type": "code",
   "execution_count": 20,
   "metadata": {},
   "outputs": [],
   "source": [
    "#changing the host_acceptance_rate and host_response_rate from object to percentage\n",
    "host_rate = ['host_acceptance_rate', 'host_response_rate']\n",
    "\n",
    "for col in host_rate:\n",
    "    listings_clean[col] = listings_clean[col].str.replace('%', '').astype(float)"
   ]
  },
  {
   "cell_type": "code",
   "execution_count": 21,
   "metadata": {},
   "outputs": [
    {
     "data": {
      "text/plain": [
       "host_acceptance_rate    float64\n",
       "host_response_rate      float64\n",
       "dtype: object"
      ]
     },
     "execution_count": 21,
     "metadata": {},
     "output_type": "execute_result"
    }
   ],
   "source": [
    "listings_clean[host_rate].dtypes"
   ]
  },
  {
   "cell_type": "markdown",
   "metadata": {},
   "source": [
    "12. Replace the NANs by the mean using fillna."
   ]
  },
  {
   "cell_type": "code",
   "execution_count": 22,
   "metadata": {},
   "outputs": [],
   "source": [
    "#replacing the nans by the mean\n",
    "listings_clean[host_rate] = listings_clean[host_rate].fillna(listings_clean[host_rate].mean())"
   ]
  },
  {
   "cell_type": "code",
   "execution_count": 23,
   "metadata": {},
   "outputs": [
    {
     "data": {
      "text/plain": [
       "host_acceptance_rate    0\n",
       "host_response_rate      0\n",
       "dtype: int64"
      ]
     },
     "execution_count": 23,
     "metadata": {},
     "output_type": "execute_result"
    }
   ],
   "source": [
    "listings_clean[host_rate].isna().sum()"
   ]
  },
  {
   "cell_type": "markdown",
   "metadata": {},
   "source": [
    "The columns first and last review are showing as object, but they are Datetime, therefor it is needed to change to Datetime before work with the NANs"
   ]
  },
  {
   "cell_type": "code",
   "execution_count": 24,
   "metadata": {},
   "outputs": [],
   "source": [
    "from datetime import datetime"
   ]
  },
  {
   "cell_type": "code",
   "execution_count": 25,
   "metadata": {},
   "outputs": [],
   "source": [
    "#changing first and last reviews to datetime\n",
    "first_last = ['first_review', 'last_review']\n",
    "\n",
    "for col in first_last:\n",
    "    listings_clean[col] = pd.to_datetime(listings_clean[col], format=\"%Y-%m-%d\")"
   ]
  },
  {
   "cell_type": "code",
   "execution_count": 26,
   "metadata": {},
   "outputs": [
    {
     "data": {
      "text/plain": [
       "first_review    datetime64[ns]\n",
       "last_review     datetime64[ns]\n",
       "dtype: object"
      ]
     },
     "execution_count": 26,
     "metadata": {},
     "output_type": "execute_result"
    }
   ],
   "source": [
    "listings_clean[['first_review', 'last_review']].dtypes"
   ]
  },
  {
   "cell_type": "markdown",
   "metadata": {},
   "source": [
    "13. Replace the NaT values in the datetime columns by the value from the previous row using ffill."
   ]
  },
  {
   "cell_type": "code",
   "execution_count": 27,
   "metadata": {},
   "outputs": [],
   "source": [
    "\n",
    "listings_clean[first_last] = listings_clean[first_last].ffill()"
   ]
  },
  {
   "cell_type": "code",
   "execution_count": 28,
   "metadata": {},
   "outputs": [
    {
     "data": {
      "text/plain": [
       "first_review    datetime64[ns]\n",
       "last_review     datetime64[ns]\n",
       "dtype: object"
      ]
     },
     "execution_count": 28,
     "metadata": {},
     "output_type": "execute_result"
    }
   ],
   "source": [
    "listings_clean[first_last].dtypes"
   ]
  },
  {
   "cell_type": "markdown",
   "metadata": {},
   "source": [
    "Now we need to deal with the reviews NANs"
   ]
  },
  {
   "cell_type": "code",
   "execution_count": 29,
   "metadata": {},
   "outputs": [
    {
     "data": {
      "text/plain": [
       "id                                                0\n",
       "host_since                                        0\n",
       "host_response_time                              625\n",
       "host_response_rate                                0\n",
       "host_acceptance_rate                              0\n",
       "host_is_superhost                                35\n",
       "host_listings_count                               0\n",
       "host_total_listings_count                         0\n",
       "host_verifications                                0\n",
       "host_has_profile_pic                              0\n",
       "host_identity_verified                            0\n",
       "neighbourhood_cleansed                            0\n",
       "latitude                                          0\n",
       "longitude                                         0\n",
       "property_type                                     0\n",
       "room_type                                         0\n",
       "accommodates                                      0\n",
       "bathrooms_text                                    0\n",
       "beds                                             86\n",
       "amenities                                         0\n",
       "price                                            64\n",
       "minimum_nights                                    0\n",
       "maximum_nights                                    0\n",
       "minimum_minimum_nights                            0\n",
       "maximum_minimum_nights                            0\n",
       "minimum_maximum_nights                            0\n",
       "maximum_maximum_nights                            0\n",
       "minimum_nights_avg_ntm                            0\n",
       "maximum_nights_avg_ntm                            0\n",
       "has_availability                                 64\n",
       "availability_30                                   0\n",
       "availability_60                                   0\n",
       "availability_90                                   0\n",
       "availability_365                                  0\n",
       "number_of_reviews                                 0\n",
       "number_of_reviews_ltm                             0\n",
       "number_of_reviews_l30d                            0\n",
       "first_review                                      0\n",
       "last_review                                       0\n",
       "review_scores_rating                            926\n",
       "review_scores_accuracy                          926\n",
       "review_scores_cleanliness                       926\n",
       "review_scores_checkin                           926\n",
       "review_scores_communication                     926\n",
       "review_scores_location                          926\n",
       "review_scores_value                             926\n",
       "instant_bookable                                  0\n",
       "calculated_host_listings_count                    0\n",
       "calculated_host_listings_count_entire_homes       0\n",
       "calculated_host_listings_count_private_rooms      0\n",
       "calculated_host_listings_count_shared_rooms       0\n",
       "reviews_per_month                               927\n",
       "dtype: int64"
      ]
     },
     "execution_count": 29,
     "metadata": {},
     "output_type": "execute_result"
    }
   ],
   "source": [
    "listings_clean.isna().sum()"
   ]
  },
  {
   "cell_type": "markdown",
   "metadata": {},
   "source": [
    "14. Replace the NANs by its mean in all review columns."
   ]
  },
  {
   "cell_type": "code",
   "execution_count": 30,
   "metadata": {},
   "outputs": [],
   "source": [
    "review_columns = [\n",
    "    'review_scores_rating','review_scores_accuracy','review_scores_cleanliness',\n",
    "    'review_scores_checkin','review_scores_communication',\n",
    "    'review_scores_location', 'review_scores_value', \n",
    "    'reviews_per_month'\n",
    "                ]"
   ]
  },
  {
   "cell_type": "code",
   "execution_count": 31,
   "metadata": {},
   "outputs": [],
   "source": [
    "#replace the nans by the mean in the review columns\n",
    "listings_clean[review_columns] = listings_clean[review_columns].fillna(listings_clean[review_columns].mean())  \n"
   ]
  },
  {
   "cell_type": "code",
   "execution_count": 32,
   "metadata": {},
   "outputs": [
    {
     "data": {
      "text/plain": [
       "id                                                0\n",
       "host_since                                        0\n",
       "host_response_time                              625\n",
       "host_response_rate                                0\n",
       "host_acceptance_rate                              0\n",
       "host_is_superhost                                35\n",
       "host_listings_count                               0\n",
       "host_total_listings_count                         0\n",
       "host_verifications                                0\n",
       "host_has_profile_pic                              0\n",
       "host_identity_verified                            0\n",
       "neighbourhood_cleansed                            0\n",
       "latitude                                          0\n",
       "longitude                                         0\n",
       "property_type                                     0\n",
       "room_type                                         0\n",
       "accommodates                                      0\n",
       "bathrooms_text                                    0\n",
       "beds                                             86\n",
       "amenities                                         0\n",
       "price                                            64\n",
       "minimum_nights                                    0\n",
       "maximum_nights                                    0\n",
       "minimum_minimum_nights                            0\n",
       "maximum_minimum_nights                            0\n",
       "minimum_maximum_nights                            0\n",
       "maximum_maximum_nights                            0\n",
       "minimum_nights_avg_ntm                            0\n",
       "maximum_nights_avg_ntm                            0\n",
       "has_availability                                 64\n",
       "availability_30                                   0\n",
       "availability_60                                   0\n",
       "availability_90                                   0\n",
       "availability_365                                  0\n",
       "number_of_reviews                                 0\n",
       "number_of_reviews_ltm                             0\n",
       "number_of_reviews_l30d                            0\n",
       "first_review                                      0\n",
       "last_review                                       0\n",
       "review_scores_rating                              0\n",
       "review_scores_accuracy                            0\n",
       "review_scores_cleanliness                         0\n",
       "review_scores_checkin                             0\n",
       "review_scores_communication                       0\n",
       "review_scores_location                            0\n",
       "review_scores_value                               0\n",
       "instant_bookable                                  0\n",
       "calculated_host_listings_count                    0\n",
       "calculated_host_listings_count_entire_homes       0\n",
       "calculated_host_listings_count_private_rooms      0\n",
       "calculated_host_listings_count_shared_rooms       0\n",
       "reviews_per_month                                 0\n",
       "dtype: int64"
      ]
     },
     "execution_count": 32,
     "metadata": {},
     "output_type": "execute_result"
    }
   ],
   "source": [
    "listings_clean.isna().sum()"
   ]
  },
  {
   "cell_type": "markdown",
   "metadata": {},
   "source": [
    "15. Now the host_response _time is the only column that has more than 900 NANs, in this case I'll replace it by None."
   ]
  },
  {
   "cell_type": "code",
   "execution_count": 33,
   "metadata": {},
   "outputs": [
    {
     "data": {
      "text/plain": [
       "host_response_time\n",
       "within an hour        6258\n",
       "within a few hours     459\n",
       "within a day           291\n",
       "a few days or more     150\n",
       "Name: count, dtype: int64"
      ]
     },
     "execution_count": 33,
     "metadata": {},
     "output_type": "execute_result"
    }
   ],
   "source": [
    "listings_clean['host_response_time'].value_counts()"
   ]
  },
  {
   "cell_type": "code",
   "execution_count": 34,
   "metadata": {},
   "outputs": [],
   "source": [
    "#replace NaNs in the host_response_time by None\n",
    "listings_clean['host_response_time'].fillna('None', inplace=True)"
   ]
  },
  {
   "cell_type": "code",
   "execution_count": 35,
   "metadata": {},
   "outputs": [
    {
     "data": {
      "text/plain": [
       "host_response_time\n",
       "within an hour        6258\n",
       "None                   625\n",
       "within a few hours     459\n",
       "within a day           291\n",
       "a few days or more     150\n",
       "Name: count, dtype: int64"
      ]
     },
     "execution_count": 35,
     "metadata": {},
     "output_type": "execute_result"
    }
   ],
   "source": [
    "listings_clean['host_response_time'].value_counts()"
   ]
  },
  {
   "cell_type": "markdown",
   "metadata": {},
   "source": [
    "16. After these cleaning it is possible to use dropna to delete de rows that have just a few NANs"
   ]
  },
  {
   "cell_type": "code",
   "execution_count": 36,
   "metadata": {},
   "outputs": [
    {
     "data": {
      "text/plain": [
       "id                                               0\n",
       "host_since                                       0\n",
       "host_response_time                               0\n",
       "host_response_rate                               0\n",
       "host_acceptance_rate                             0\n",
       "host_is_superhost                               35\n",
       "host_listings_count                              0\n",
       "host_total_listings_count                        0\n",
       "host_verifications                               0\n",
       "host_has_profile_pic                             0\n",
       "host_identity_verified                           0\n",
       "neighbourhood_cleansed                           0\n",
       "latitude                                         0\n",
       "longitude                                        0\n",
       "property_type                                    0\n",
       "room_type                                        0\n",
       "accommodates                                     0\n",
       "bathrooms_text                                   0\n",
       "beds                                            86\n",
       "amenities                                        0\n",
       "price                                           64\n",
       "minimum_nights                                   0\n",
       "maximum_nights                                   0\n",
       "minimum_minimum_nights                           0\n",
       "maximum_minimum_nights                           0\n",
       "minimum_maximum_nights                           0\n",
       "maximum_maximum_nights                           0\n",
       "minimum_nights_avg_ntm                           0\n",
       "maximum_nights_avg_ntm                           0\n",
       "has_availability                                64\n",
       "availability_30                                  0\n",
       "availability_60                                  0\n",
       "availability_90                                  0\n",
       "availability_365                                 0\n",
       "number_of_reviews                                0\n",
       "number_of_reviews_ltm                            0\n",
       "number_of_reviews_l30d                           0\n",
       "first_review                                     0\n",
       "last_review                                      0\n",
       "review_scores_rating                             0\n",
       "review_scores_accuracy                           0\n",
       "review_scores_cleanliness                        0\n",
       "review_scores_checkin                            0\n",
       "review_scores_communication                      0\n",
       "review_scores_location                           0\n",
       "review_scores_value                              0\n",
       "instant_bookable                                 0\n",
       "calculated_host_listings_count                   0\n",
       "calculated_host_listings_count_entire_homes      0\n",
       "calculated_host_listings_count_private_rooms     0\n",
       "calculated_host_listings_count_shared_rooms      0\n",
       "reviews_per_month                                0\n",
       "dtype: int64"
      ]
     },
     "execution_count": 36,
     "metadata": {},
     "output_type": "execute_result"
    }
   ],
   "source": [
    "listings_clean.isna().sum()"
   ]
  },
  {
   "cell_type": "code",
   "execution_count": 37,
   "metadata": {},
   "outputs": [
    {
     "data": {
      "text/plain": [
       "(7783, 52)"
      ]
     },
     "execution_count": 37,
     "metadata": {},
     "output_type": "execute_result"
    }
   ],
   "source": [
    "listings_clean.shape"
   ]
  },
  {
   "cell_type": "code",
   "execution_count": 38,
   "metadata": {},
   "outputs": [],
   "source": [
    "listings_clean.dropna(inplace=True)"
   ]
  },
  {
   "cell_type": "code",
   "execution_count": 39,
   "metadata": {},
   "outputs": [
    {
     "data": {
      "text/plain": [
       "(7598, 52)"
      ]
     },
     "execution_count": 39,
     "metadata": {},
     "output_type": "execute_result"
    }
   ],
   "source": [
    "listings_clean.shape"
   ]
  },
  {
   "cell_type": "markdown",
   "metadata": {},
   "source": [
    "17. The price column is also in the format of object, in order to work with it we need to delete the $ and the comma to change it to float."
   ]
  },
  {
   "cell_type": "code",
   "execution_count": 40,
   "metadata": {},
   "outputs": [
    {
     "data": {
      "text/plain": [
       "dtype('O')"
      ]
     },
     "execution_count": 40,
     "metadata": {},
     "output_type": "execute_result"
    }
   ],
   "source": [
    "listings_clean['price'].dtypes\n"
   ]
  },
  {
   "cell_type": "code",
   "execution_count": 41,
   "metadata": {},
   "outputs": [],
   "source": [
    "listings_clean['price'] = listings_clean['price'].str.replace('$', '').str.replace(',','').astype(float)"
   ]
  },
  {
   "cell_type": "code",
   "execution_count": 42,
   "metadata": {},
   "outputs": [
    {
     "data": {
      "text/plain": [
       "dtype('float64')"
      ]
     },
     "execution_count": 42,
     "metadata": {},
     "output_type": "execute_result"
    }
   ],
   "source": [
    "listings_clean['price'].dtypes"
   ]
  },
  {
   "cell_type": "markdown",
   "metadata": {},
   "source": [
    "Final result of the file"
   ]
  },
  {
   "cell_type": "code",
   "execution_count": 43,
   "metadata": {},
   "outputs": [
    {
     "data": {
      "text/html": [
       "<div>\n",
       "<style scoped>\n",
       "    .dataframe tbody tr th:only-of-type {\n",
       "        vertical-align: middle;\n",
       "    }\n",
       "\n",
       "    .dataframe tbody tr th {\n",
       "        vertical-align: top;\n",
       "    }\n",
       "\n",
       "    .dataframe thead th {\n",
       "        text-align: right;\n",
       "    }\n",
       "</style>\n",
       "<table border=\"1\" class=\"dataframe\">\n",
       "  <thead>\n",
       "    <tr style=\"text-align: right;\">\n",
       "      <th></th>\n",
       "      <th>id</th>\n",
       "      <th>host_since</th>\n",
       "      <th>host_response_time</th>\n",
       "      <th>host_response_rate</th>\n",
       "      <th>host_acceptance_rate</th>\n",
       "      <th>host_is_superhost</th>\n",
       "      <th>host_listings_count</th>\n",
       "      <th>host_total_listings_count</th>\n",
       "      <th>host_verifications</th>\n",
       "      <th>host_has_profile_pic</th>\n",
       "      <th>...</th>\n",
       "      <th>review_scores_checkin</th>\n",
       "      <th>review_scores_communication</th>\n",
       "      <th>review_scores_location</th>\n",
       "      <th>review_scores_value</th>\n",
       "      <th>instant_bookable</th>\n",
       "      <th>calculated_host_listings_count</th>\n",
       "      <th>calculated_host_listings_count_entire_homes</th>\n",
       "      <th>calculated_host_listings_count_private_rooms</th>\n",
       "      <th>calculated_host_listings_count_shared_rooms</th>\n",
       "      <th>reviews_per_month</th>\n",
       "    </tr>\n",
       "  </thead>\n",
       "  <tbody>\n",
       "    <tr>\n",
       "      <th>0</th>\n",
       "      <td>96033</td>\n",
       "      <td>2011-04-15</td>\n",
       "      <td>within an hour</td>\n",
       "      <td>100.00000</td>\n",
       "      <td>100.0</td>\n",
       "      <td>f</td>\n",
       "      <td>1</td>\n",
       "      <td>1</td>\n",
       "      <td>['email', 'phone', 'work_email']</td>\n",
       "      <td>t</td>\n",
       "      <td>...</td>\n",
       "      <td>4.870000</td>\n",
       "      <td>4.920000</td>\n",
       "      <td>4.400000</td>\n",
       "      <td>4.600000</td>\n",
       "      <td>f</td>\n",
       "      <td>1</td>\n",
       "      <td>1</td>\n",
       "      <td>0</td>\n",
       "      <td>0</td>\n",
       "      <td>1.660000</td>\n",
       "    </tr>\n",
       "    <tr>\n",
       "      <th>1</th>\n",
       "      <td>166473</td>\n",
       "      <td>2011-07-08</td>\n",
       "      <td>within a few hours</td>\n",
       "      <td>100.00000</td>\n",
       "      <td>78.0</td>\n",
       "      <td>t</td>\n",
       "      <td>4</td>\n",
       "      <td>4</td>\n",
       "      <td>['email', 'phone']</td>\n",
       "      <td>t</td>\n",
       "      <td>...</td>\n",
       "      <td>4.820000</td>\n",
       "      <td>4.910000</td>\n",
       "      <td>4.810000</td>\n",
       "      <td>4.700000</td>\n",
       "      <td>f</td>\n",
       "      <td>4</td>\n",
       "      <td>0</td>\n",
       "      <td>4</td>\n",
       "      <td>0</td>\n",
       "      <td>0.630000</td>\n",
       "    </tr>\n",
       "    <tr>\n",
       "      <th>2</th>\n",
       "      <td>212845</td>\n",
       "      <td>2011-05-23</td>\n",
       "      <td>within a few hours</td>\n",
       "      <td>100.00000</td>\n",
       "      <td>94.0</td>\n",
       "      <td>f</td>\n",
       "      <td>3</td>\n",
       "      <td>3</td>\n",
       "      <td>['email', 'phone']</td>\n",
       "      <td>t</td>\n",
       "      <td>...</td>\n",
       "      <td>4.930000</td>\n",
       "      <td>4.880000</td>\n",
       "      <td>4.570000</td>\n",
       "      <td>4.760000</td>\n",
       "      <td>f</td>\n",
       "      <td>2</td>\n",
       "      <td>0</td>\n",
       "      <td>1</td>\n",
       "      <td>1</td>\n",
       "      <td>0.300000</td>\n",
       "    </tr>\n",
       "    <tr>\n",
       "      <th>3</th>\n",
       "      <td>330760</td>\n",
       "      <td>2012-02-02</td>\n",
       "      <td>within an hour</td>\n",
       "      <td>100.00000</td>\n",
       "      <td>99.0</td>\n",
       "      <td>f</td>\n",
       "      <td>7</td>\n",
       "      <td>9</td>\n",
       "      <td>['email', 'phone']</td>\n",
       "      <td>t</td>\n",
       "      <td>...</td>\n",
       "      <td>4.690000</td>\n",
       "      <td>4.580000</td>\n",
       "      <td>4.480000</td>\n",
       "      <td>4.450000</td>\n",
       "      <td>t</td>\n",
       "      <td>6</td>\n",
       "      <td>4</td>\n",
       "      <td>2</td>\n",
       "      <td>0</td>\n",
       "      <td>0.380000</td>\n",
       "    </tr>\n",
       "    <tr>\n",
       "      <th>4</th>\n",
       "      <td>340024</td>\n",
       "      <td>2012-02-09</td>\n",
       "      <td>within an hour</td>\n",
       "      <td>100.00000</td>\n",
       "      <td>100.0</td>\n",
       "      <td>t</td>\n",
       "      <td>1</td>\n",
       "      <td>1</td>\n",
       "      <td>['email', 'phone']</td>\n",
       "      <td>t</td>\n",
       "      <td>...</td>\n",
       "      <td>4.870000</td>\n",
       "      <td>4.830000</td>\n",
       "      <td>4.720000</td>\n",
       "      <td>4.790000</td>\n",
       "      <td>f</td>\n",
       "      <td>1</td>\n",
       "      <td>1</td>\n",
       "      <td>0</td>\n",
       "      <td>0</td>\n",
       "      <td>1.860000</td>\n",
       "    </tr>\n",
       "    <tr>\n",
       "      <th>...</th>\n",
       "      <td>...</td>\n",
       "      <td>...</td>\n",
       "      <td>...</td>\n",
       "      <td>...</td>\n",
       "      <td>...</td>\n",
       "      <td>...</td>\n",
       "      <td>...</td>\n",
       "      <td>...</td>\n",
       "      <td>...</td>\n",
       "      <td>...</td>\n",
       "      <td>...</td>\n",
       "      <td>...</td>\n",
       "      <td>...</td>\n",
       "      <td>...</td>\n",
       "      <td>...</td>\n",
       "      <td>...</td>\n",
       "      <td>...</td>\n",
       "      <td>...</td>\n",
       "      <td>...</td>\n",
       "      <td>...</td>\n",
       "      <td>...</td>\n",
       "    </tr>\n",
       "    <tr>\n",
       "      <th>7777</th>\n",
       "      <td>1056480591998749035</td>\n",
       "      <td>2019-02-26</td>\n",
       "      <td>within an hour</td>\n",
       "      <td>100.00000</td>\n",
       "      <td>97.0</td>\n",
       "      <td>f</td>\n",
       "      <td>52</td>\n",
       "      <td>53</td>\n",
       "      <td>['email', 'phone', 'work_email']</td>\n",
       "      <td>t</td>\n",
       "      <td>...</td>\n",
       "      <td>4.742419</td>\n",
       "      <td>4.765037</td>\n",
       "      <td>4.704725</td>\n",
       "      <td>4.560159</td>\n",
       "      <td>t</td>\n",
       "      <td>20</td>\n",
       "      <td>20</td>\n",
       "      <td>0</td>\n",
       "      <td>0</td>\n",
       "      <td>1.469093</td>\n",
       "    </tr>\n",
       "    <tr>\n",
       "      <th>7779</th>\n",
       "      <td>1056634780623178557</td>\n",
       "      <td>2012-08-26</td>\n",
       "      <td>within an hour</td>\n",
       "      <td>100.00000</td>\n",
       "      <td>100.0</td>\n",
       "      <td>f</td>\n",
       "      <td>90</td>\n",
       "      <td>191</td>\n",
       "      <td>['email', 'phone', 'work_email']</td>\n",
       "      <td>t</td>\n",
       "      <td>...</td>\n",
       "      <td>4.742419</td>\n",
       "      <td>4.765037</td>\n",
       "      <td>4.704725</td>\n",
       "      <td>4.560159</td>\n",
       "      <td>t</td>\n",
       "      <td>67</td>\n",
       "      <td>67</td>\n",
       "      <td>0</td>\n",
       "      <td>0</td>\n",
       "      <td>1.469093</td>\n",
       "    </tr>\n",
       "    <tr>\n",
       "      <th>7780</th>\n",
       "      <td>1056663927854621164</td>\n",
       "      <td>2012-08-26</td>\n",
       "      <td>within an hour</td>\n",
       "      <td>100.00000</td>\n",
       "      <td>100.0</td>\n",
       "      <td>f</td>\n",
       "      <td>90</td>\n",
       "      <td>191</td>\n",
       "      <td>['email', 'phone', 'work_email']</td>\n",
       "      <td>t</td>\n",
       "      <td>...</td>\n",
       "      <td>4.742419</td>\n",
       "      <td>4.765037</td>\n",
       "      <td>4.704725</td>\n",
       "      <td>4.560159</td>\n",
       "      <td>t</td>\n",
       "      <td>67</td>\n",
       "      <td>67</td>\n",
       "      <td>0</td>\n",
       "      <td>0</td>\n",
       "      <td>1.469093</td>\n",
       "    </tr>\n",
       "    <tr>\n",
       "      <th>7781</th>\n",
       "      <td>1056694008736627484</td>\n",
       "      <td>2022-04-29</td>\n",
       "      <td>within a day</td>\n",
       "      <td>100.00000</td>\n",
       "      <td>100.0</td>\n",
       "      <td>f</td>\n",
       "      <td>2</td>\n",
       "      <td>2</td>\n",
       "      <td>['email', 'phone']</td>\n",
       "      <td>t</td>\n",
       "      <td>...</td>\n",
       "      <td>4.742419</td>\n",
       "      <td>4.765037</td>\n",
       "      <td>4.704725</td>\n",
       "      <td>4.560159</td>\n",
       "      <td>f</td>\n",
       "      <td>2</td>\n",
       "      <td>2</td>\n",
       "      <td>0</td>\n",
       "      <td>0</td>\n",
       "      <td>1.469093</td>\n",
       "    </tr>\n",
       "    <tr>\n",
       "      <th>7782</th>\n",
       "      <td>1057114997047818035</td>\n",
       "      <td>2023-04-08</td>\n",
       "      <td>None</td>\n",
       "      <td>96.24993</td>\n",
       "      <td>89.0</td>\n",
       "      <td>t</td>\n",
       "      <td>1</td>\n",
       "      <td>1</td>\n",
       "      <td>['phone']</td>\n",
       "      <td>t</td>\n",
       "      <td>...</td>\n",
       "      <td>4.742419</td>\n",
       "      <td>4.765037</td>\n",
       "      <td>4.704725</td>\n",
       "      <td>4.560159</td>\n",
       "      <td>f</td>\n",
       "      <td>1</td>\n",
       "      <td>1</td>\n",
       "      <td>0</td>\n",
       "      <td>0</td>\n",
       "      <td>1.469093</td>\n",
       "    </tr>\n",
       "  </tbody>\n",
       "</table>\n",
       "<p>7598 rows × 52 columns</p>\n",
       "</div>"
      ],
      "text/plain": [
       "                       id  host_since  host_response_time  host_response_rate  \\\n",
       "0                   96033  2011-04-15      within an hour           100.00000   \n",
       "1                  166473  2011-07-08  within a few hours           100.00000   \n",
       "2                  212845  2011-05-23  within a few hours           100.00000   \n",
       "3                  330760  2012-02-02      within an hour           100.00000   \n",
       "4                  340024  2012-02-09      within an hour           100.00000   \n",
       "...                   ...         ...                 ...                 ...   \n",
       "7777  1056480591998749035  2019-02-26      within an hour           100.00000   \n",
       "7779  1056634780623178557  2012-08-26      within an hour           100.00000   \n",
       "7780  1056663927854621164  2012-08-26      within an hour           100.00000   \n",
       "7781  1056694008736627484  2022-04-29        within a day           100.00000   \n",
       "7782  1057114997047818035  2023-04-08                None            96.24993   \n",
       "\n",
       "      host_acceptance_rate host_is_superhost  host_listings_count  \\\n",
       "0                    100.0                 f                    1   \n",
       "1                     78.0                 t                    4   \n",
       "2                     94.0                 f                    3   \n",
       "3                     99.0                 f                    7   \n",
       "4                    100.0                 t                    1   \n",
       "...                    ...               ...                  ...   \n",
       "7777                  97.0                 f                   52   \n",
       "7779                 100.0                 f                   90   \n",
       "7780                 100.0                 f                   90   \n",
       "7781                 100.0                 f                    2   \n",
       "7782                  89.0                 t                    1   \n",
       "\n",
       "      host_total_listings_count                host_verifications  \\\n",
       "0                             1  ['email', 'phone', 'work_email']   \n",
       "1                             4                ['email', 'phone']   \n",
       "2                             3                ['email', 'phone']   \n",
       "3                             9                ['email', 'phone']   \n",
       "4                             1                ['email', 'phone']   \n",
       "...                         ...                               ...   \n",
       "7777                         53  ['email', 'phone', 'work_email']   \n",
       "7779                        191  ['email', 'phone', 'work_email']   \n",
       "7780                        191  ['email', 'phone', 'work_email']   \n",
       "7781                          2                ['email', 'phone']   \n",
       "7782                          1                         ['phone']   \n",
       "\n",
       "     host_has_profile_pic  ... review_scores_checkin  \\\n",
       "0                       t  ...              4.870000   \n",
       "1                       t  ...              4.820000   \n",
       "2                       t  ...              4.930000   \n",
       "3                       t  ...              4.690000   \n",
       "4                       t  ...              4.870000   \n",
       "...                   ...  ...                   ...   \n",
       "7777                    t  ...              4.742419   \n",
       "7779                    t  ...              4.742419   \n",
       "7780                    t  ...              4.742419   \n",
       "7781                    t  ...              4.742419   \n",
       "7782                    t  ...              4.742419   \n",
       "\n",
       "     review_scores_communication  review_scores_location  review_scores_value  \\\n",
       "0                       4.920000                4.400000             4.600000   \n",
       "1                       4.910000                4.810000             4.700000   \n",
       "2                       4.880000                4.570000             4.760000   \n",
       "3                       4.580000                4.480000             4.450000   \n",
       "4                       4.830000                4.720000             4.790000   \n",
       "...                          ...                     ...                  ...   \n",
       "7777                    4.765037                4.704725             4.560159   \n",
       "7779                    4.765037                4.704725             4.560159   \n",
       "7780                    4.765037                4.704725             4.560159   \n",
       "7781                    4.765037                4.704725             4.560159   \n",
       "7782                    4.765037                4.704725             4.560159   \n",
       "\n",
       "     instant_bookable calculated_host_listings_count  \\\n",
       "0                   f                              1   \n",
       "1                   f                              4   \n",
       "2                   f                              2   \n",
       "3                   t                              6   \n",
       "4                   f                              1   \n",
       "...               ...                            ...   \n",
       "7777                t                             20   \n",
       "7779                t                             67   \n",
       "7780                t                             67   \n",
       "7781                f                              2   \n",
       "7782                f                              1   \n",
       "\n",
       "      calculated_host_listings_count_entire_homes  \\\n",
       "0                                               1   \n",
       "1                                               0   \n",
       "2                                               0   \n",
       "3                                               4   \n",
       "4                                               1   \n",
       "...                                           ...   \n",
       "7777                                           20   \n",
       "7779                                           67   \n",
       "7780                                           67   \n",
       "7781                                            2   \n",
       "7782                                            1   \n",
       "\n",
       "     calculated_host_listings_count_private_rooms  \\\n",
       "0                                               0   \n",
       "1                                               4   \n",
       "2                                               1   \n",
       "3                                               2   \n",
       "4                                               0   \n",
       "...                                           ...   \n",
       "7777                                            0   \n",
       "7779                                            0   \n",
       "7780                                            0   \n",
       "7781                                            0   \n",
       "7782                                            0   \n",
       "\n",
       "      calculated_host_listings_count_shared_rooms reviews_per_month  \n",
       "0                                               0          1.660000  \n",
       "1                                               0          0.630000  \n",
       "2                                               1          0.300000  \n",
       "3                                               0          0.380000  \n",
       "4                                               0          1.860000  \n",
       "...                                           ...               ...  \n",
       "7777                                            0          1.469093  \n",
       "7779                                            0          1.469093  \n",
       "7780                                            0          1.469093  \n",
       "7781                                            0          1.469093  \n",
       "7782                                            0          1.469093  \n",
       "\n",
       "[7598 rows x 52 columns]"
      ]
     },
     "execution_count": 43,
     "metadata": {},
     "output_type": "execute_result"
    }
   ],
   "source": [
    "listings_clean"
   ]
  },
  {
   "cell_type": "markdown",
   "metadata": {},
   "source": [
    "18. Reset the index."
   ]
  },
  {
   "cell_type": "code",
   "execution_count": 44,
   "metadata": {},
   "outputs": [],
   "source": [
    "listings_clean.reset_index(drop=True, inplace=True)"
   ]
  },
  {
   "cell_type": "markdown",
   "metadata": {},
   "source": [
    "### Part 2 - Graphs"
   ]
  },
  {
   "cell_type": "code",
   "execution_count": 45,
   "metadata": {},
   "outputs": [],
   "source": [
    "import seaborn as sns\n",
    "from matplotlib import pyplot as plt"
   ]
  },
  {
   "cell_type": "code",
   "execution_count": 46,
   "metadata": {},
   "outputs": [
    {
     "name": "stdout",
     "output_type": "stream",
     "text": [
      "price\n",
      "100.0      127\n",
      "80.0       105\n",
      "90.0       101\n",
      "65.0        94\n",
      "94.0        91\n",
      "          ... \n",
      "1250.0       1\n",
      "442.0        1\n",
      "78120.0      1\n",
      "581.0        1\n",
      "855.0        1\n",
      "Name: count, Length: 505, dtype: int64\n"
     ]
    }
   ],
   "source": [
    "print(listings_clean['price'].value_counts())\n"
   ]
  },
  {
   "cell_type": "code",
   "execution_count": 47,
   "metadata": {},
   "outputs": [],
   "source": [
    "listings_clean = listings_clean[listings_clean['price'] <= 600]"
   ]
  },
  {
   "cell_type": "code",
   "execution_count": 48,
   "metadata": {},
   "outputs": [
    {
     "data": {
      "text/plain": [
       "<Axes: xlabel='price', ylabel='Count'>"
      ]
     },
     "execution_count": 48,
     "metadata": {},
     "output_type": "execute_result"
    },
    {
     "data": {
      "image/png": "[encoded data removed]",
      "text/plain": [
       "<Figure size 640x480 with 1 Axes>"
      ]
     },
     "metadata": {},
     "output_type": "display_data"
    }
   ],
   "source": [
    "sns.histplot(\n",
    "    data = listings_clean,\n",
    "    x = 'price', binwidth=40\n",
    ")"
   ]
  },
  {
   "cell_type": "markdown",
   "metadata": {},
   "source": [
    "In this histplot we can see that the price per night is between 50 and 150 dollars in over 2000 instances.<br>\n",
    "While the price per night is 200 dollars in 500 instances."
   ]
  },
  {
   "cell_type": "code",
   "execution_count": 49,
   "metadata": {},
   "outputs": [
    {
     "data": {
      "text/plain": [
       "<Axes: ylabel='price'>"
      ]
     },
     "execution_count": 49,
     "metadata": {},
     "output_type": "execute_result"
    },
    {
     "data": {
      "image/png": "[encoded data removed]",
      "text/plain": [
       "<Figure size 640x480 with 1 Axes>"
      ]
     },
     "metadata": {},
     "output_type": "display_data"
    }
   ],
   "source": [
    "sns.boxplot(\n",
    "    data = listings_clean,\n",
    "    y = 'price'\n",
    ")"
   ]
  },
  {
   "cell_type": "markdown",
   "metadata": {},
   "source": [
    "- In this boxplot we can see that the median is 100.<br>\n",
    "- 25% of the instances are lower than 100.<br>\n",
    "- 75% of the instances are between 100 and 200.<br>\n",
    "- Above 300 are outliers."
   ]
  },
  {
   "cell_type": "markdown",
   "metadata": {},
   "source": [
    "Removing the outliers."
   ]
  },
  {
   "cell_type": "code",
   "execution_count": 50,
   "metadata": {},
   "outputs": [],
   "source": [
    "q3 = listings_clean['price'].quantile(0.75)\n",
    "q1 = listings_clean['price'].quantile(0.25)\n",
    "iqr = q3 - q1\n",
    "upper_bound = q3 + (1.5 * iqr)\n",
    "lower_bound = q1 + (1.5 * iqr)\n",
    "listings_outliers = listings_clean[\n",
    "    (listings_clean['price'] < upper_bound) &\n",
    "    (listings_clean['price'] > lower_bound)\n",
    "]\n"
   ]
  },
  {
   "cell_type": "code",
   "execution_count": 51,
   "metadata": {},
   "outputs": [
    {
     "data": {
      "text/plain": [
       "<Axes: ylabel='price'>"
      ]
     },
     "execution_count": 51,
     "metadata": {},
     "output_type": "execute_result"
    },
    {
     "data": {
      "image/png": "[encoded data removed]",
      "text/plain": [
       "<Figure size 640x480 with 1 Axes>"
      ]
     },
     "metadata": {},
     "output_type": "display_data"
    }
   ],
   "source": [
    "sns.boxplot(\n",
    "    data = listings_outliers,\n",
    "    y = 'price'\n",
    ")"
   ]
  },
  {
   "cell_type": "markdown",
   "metadata": {},
   "source": [
    "Removing the outliers we have:<br>\n",
    "- 25% of the instances are between 190 and 205 dollars.\n",
    "- 75% of the instances are between 210 and 230 dollars.\n",
    "- The median is 205 dollars."
   ]
  },
  {
   "cell_type": "code",
   "execution_count": 52,
   "metadata": {},
   "outputs": [
    {
     "data": {
      "text/plain": [
       "Text(0, 0.5, 'Number of Instances')"
      ]
     },
     "execution_count": 52,
     "metadata": {},
     "output_type": "execute_result"
    },
    {
     "data": {
      "image/png": "[encoded data removed]",
      "text/plain": [
       "<Figure size 640x480 with 1 Axes>"
      ]
     },
     "metadata": {},
     "output_type": "display_data"
    }
   ],
   "source": [
    "\n",
    "sns.histplot(\n",
    "    data=listings_outliers, x=\"price\", binwidth=5, color='pink')\n",
    "plt.title(\"Price per Night\")\n",
    "plt.xlabel(\"Price\")\n",
    "plt.ylabel(\"Number of Instances\")"
   ]
  },
  {
   "cell_type": "markdown",
   "metadata": {},
   "source": [
    "In this histplot we can see that the price per night that is most common in the instances is 200 dollars with over 80 instances.<br>\n",
    " "
   ]
  },
  {
   "cell_type": "code",
   "execution_count": 53,
   "metadata": {},
   "outputs": [
    {
     "data": {
      "text/plain": [
       "Index(['id', 'host_since', 'host_response_time', 'host_response_rate',\n",
       "       'host_acceptance_rate', 'host_is_superhost', 'host_listings_count',\n",
       "       'host_total_listings_count', 'host_verifications',\n",
       "       'host_has_profile_pic', 'host_identity_verified',\n",
       "       'neighbourhood_cleansed', 'latitude', 'longitude', 'property_type',\n",
       "       'room_type', 'accommodates', 'bathrooms_text', 'beds', 'amenities',\n",
       "       'price', 'minimum_nights', 'maximum_nights', 'minimum_minimum_nights',\n",
       "       'maximum_minimum_nights', 'minimum_maximum_nights',\n",
       "       'maximum_maximum_nights', 'minimum_nights_avg_ntm',\n",
       "       'maximum_nights_avg_ntm', 'has_availability', 'availability_30',\n",
       "       'availability_60', 'availability_90', 'availability_365',\n",
       "       'number_of_reviews', 'number_of_reviews_ltm', 'number_of_reviews_l30d',\n",
       "       'first_review', 'last_review', 'review_scores_rating',\n",
       "       'review_scores_accuracy', 'review_scores_cleanliness',\n",
       "       'review_scores_checkin', 'review_scores_communication',\n",
       "       'review_scores_location', 'review_scores_value', 'instant_bookable',\n",
       "       'calculated_host_listings_count',\n",
       "       'calculated_host_listings_count_entire_homes',\n",
       "       'calculated_host_listings_count_private_rooms',\n",
       "       'calculated_host_listings_count_shared_rooms', 'reviews_per_month'],\n",
       "      dtype='object')"
      ]
     },
     "execution_count": 53,
     "metadata": {},
     "output_type": "execute_result"
    }
   ],
   "source": [
    "listings_clean.columns"
   ]
  },
  {
   "cell_type": "code",
   "execution_count": 54,
   "metadata": {},
   "outputs": [
    {
     "data": {
      "text/plain": [
       "Text(0, 0.5, 'Number of Instances')"
      ]
     },
     "execution_count": 54,
     "metadata": {},
     "output_type": "execute_result"
    },
    {
     "data": {
      "image/png": "[encoded data removed]",
      "text/plain": [
       "<Figure size 640x480 with 1 Axes>"
      ]
     },
     "metadata": {},
     "output_type": "display_data"
    }
   ],
   "source": [
    "sns.histplot(\n",
    "    data=listings_outliers, x=\"price\",  hue='host_is_superhost',element ='step')\n",
    "plt.title(\"Price per Night\")\n",
    "plt.xlabel(\"Price\")\n",
    "plt.ylabel(\"Number of Instances\")"
   ]
  },
  {
   "cell_type": "markdown",
   "metadata": {},
   "source": [
    "In this histplot we come to the conclusion that being a superhost does not affect the price.<br>\n",
    "- Only around 40 instances with price per nigh of 200 dollars are a superhost,<br>\n",
    "- Also, less than 10 instances with the price per night of 250 are a superhost."
   ]
  },
  {
   "cell_type": "markdown",
   "metadata": {},
   "source": [
    "To create the next graph it I'll check the amount of beds."
   ]
  },
  {
   "cell_type": "code",
   "execution_count": 55,
   "metadata": {},
   "outputs": [
    {
     "data": {
      "text/plain": [
       "beds\n",
       "2.0     2306\n",
       "1.0     2193\n",
       "3.0     1421\n",
       "4.0      838\n",
       "5.0      355\n",
       "6.0      157\n",
       "7.0       85\n",
       "8.0       45\n",
       "10.0      23\n",
       "9.0       19\n",
       "12.0      12\n",
       "13.0       8\n",
       "11.0       8\n",
       "14.0       4\n",
       "16.0       4\n",
       "15.0       3\n",
       "18.0       3\n",
       "20.0       2\n",
       "25.0       1\n",
       "17.0       1\n",
       "Name: count, dtype: int64"
      ]
     },
     "execution_count": 55,
     "metadata": {},
     "output_type": "execute_result"
    }
   ],
   "source": [
    "listings_clean['beds'].value_counts()"
   ]
  },
  {
   "cell_type": "markdown",
   "metadata": {},
   "source": [
    "As we have just a few instances with more than 6 beds I created a variable with less than 6 beds."
   ]
  },
  {
   "cell_type": "code",
   "execution_count": 73,
   "metadata": {},
   "outputs": [],
   "source": [
    "listings_outliers = listings_outliers[listings_outliers['beds']<=6]"
   ]
  },
  {
   "cell_type": "markdown",
   "metadata": {},
   "source": [
    " Then I'll create a boxplot to compare the prices, neighbourhood and number of beds."
   ]
  },
  {
   "cell_type": "code",
   "execution_count": 156,
   "metadata": {},
   "outputs": [
    {
     "data": {
      "image/png": "[encoded data removed]",
      "text/plain": [
       "<Figure size 2500x600 with 1 Axes>"
      ]
     },
     "metadata": {},
     "output_type": "display_data"
    }
   ],
   "source": [
    "plt.figure(figsize = (25,6))\n",
    "sns.boxplot(data=listings_outliers, y ='price', x='beds', hue = 'neighbourhood_cleansed', palette='Spectral')\n",
    "plt.title(\"Price per Night and Number of Beds\")\n",
    "plt.xlabel('Beds')\n",
    "plt.ylabel('Prices')\n",
    "plt.grid(axis = 'y')\n"
   ]
  },
  {
   "cell_type": "markdown",
   "metadata": {},
   "source": [
    "Findings:<br>\n",
    "- Neighbourhood 'Centro': The average price in houses with 1 to 4 beds is 205, in houses with 5 beds it increases to 220.<br> Therefore, in this neighbourhood there is no correlation between price and number of beds.\n",
    "- Houses in the neighbourhood 'Este': The average price in houses with 1 to 3 beds is around 202, although it has a peak to 233 in houses with 4 beds, and it has a significant decrease to 197 in houses with 5 bedrooms.\n",
    "- Houses in the neighbourhood 'Carretera de Cadiz': The prices ranges from 195 to 215 and are not correlated to the number of beds.\n",
    "- Houses in the neighbourhood 'Cruz de Humiladero': In this neighbourhood the prices increases according to the number of beds, ranging from 200 to 225.\n",
    "\n",
    "\n"
   ]
  },
  {
   "cell_type": "code",
   "execution_count": 172,
   "metadata": {},
   "outputs": [
    {
     "data": {
      "text/plain": [
       "beds  neighbourhood_cleansed\n",
       "3.0   Centro                    130\n",
       "2.0   Centro                    107\n",
       "4.0   Centro                     76\n",
       "1.0   Centro                     64\n",
       "5.0   Centro                     42\n",
       "6.0   Centro                     27\n",
       "3.0   Este                       24\n",
       "4.0   Este                       14\n",
       "      Carretera de Cadiz         12\n",
       "3.0   Carretera de Cadiz         11\n",
       "      Cruz De Humilladero        10\n",
       "2.0   Este                        9\n",
       "4.0   Cruz De Humilladero         8\n",
       "5.0   Carretera de Cadiz          7\n",
       "      Este                        5\n",
       "2.0   Cruz De Humilladero         4\n",
       "6.0   Carretera de Cadiz          3\n",
       "1.0   Carretera de Cadiz          3\n",
       "      Este                        3\n",
       "5.0   Teatinos-Universidad        2\n",
       "6.0   Churriana                   2\n",
       "5.0   Puerto de la Torre          2\n",
       "      Churriana                   2\n",
       "1.0   Bailen-Miraflores           2\n",
       "4.0   Puerto de la Torre          2\n",
       "      Campanillas                 2\n",
       "2.0   Carretera de Cadiz          2\n",
       "6.0   Este                        2\n",
       "5.0   Campanillas                 1\n",
       "4.0   Churriana                   1\n",
       "5.0   Cruz De Humilladero         1\n",
       "4.0   Bailen-Miraflores           1\n",
       "3.0   Churriana                   1\n",
       "2.0   Teatinos-Universidad        1\n",
       "      Churriana                   1\n",
       "6.0   Cruz De Humilladero         1\n",
       "Name: count, dtype: int64"
      ]
     },
     "execution_count": 172,
     "metadata": {},
     "output_type": "execute_result"
    }
   ],
   "source": [
    "listings_outliers[['beds', 'neighbourhood_cleansed']].value_counts()\n"
   ]
  },
  {
   "cell_type": "code",
   "execution_count": 168,
   "metadata": {},
   "outputs": [
    {
     "data": {
      "text/plain": [
       "beds  neighbourhood_cleansed\n",
       "1.0   Bailen-Miraflores         197.5\n",
       "      Carretera de Cadiz        200.0\n",
       "      Centro                    205.5\n",
       "      Este                      203.0\n",
       "2.0   Carretera de Cadiz        214.0\n",
       "      Centro                    205.0\n",
       "      Churriana                 235.0\n",
       "      Cruz De Humilladero       200.5\n",
       "      Este                      202.0\n",
       "      Teatinos-Universidad      215.0\n",
       "3.0   Carretera de Cadiz        200.0\n",
       "      Centro                    206.5\n",
       "      Churriana                 248.0\n",
       "      Cruz De Humilladero       213.5\n",
       "      Este                      201.0\n",
       "4.0   Bailen-Miraflores         213.0\n",
       "      Campanillas               202.0\n",
       "      Carretera de Cadiz        211.0\n",
       "      Centro                    205.5\n",
       "      Churriana                 250.0\n",
       "      Cruz De Humilladero       222.0\n",
       "      Este                      233.0\n",
       "      Puerto de la Torre        215.5\n",
       "5.0   Campanillas               241.0\n",
       "      Carretera de Cadiz        195.0\n",
       "      Centro                    220.0\n",
       "      Churriana                 208.0\n",
       "      Cruz De Humilladero       200.0\n",
       "      Este                      197.0\n",
       "      Puerto de la Torre        212.5\n",
       "      Teatinos-Universidad      209.5\n",
       "6.0   Carretera de Cadiz        208.0\n",
       "      Centro                    210.0\n",
       "      Churriana                 204.0\n",
       "      Cruz De Humilladero       207.0\n",
       "      Este                      219.0\n",
       "Name: price, dtype: float64"
      ]
     },
     "execution_count": 168,
     "metadata": {},
     "output_type": "execute_result"
    }
   ],
   "source": [
    "listings_outliers.groupby(['beds', 'neighbourhood_cleansed'])['price'].median()"
   ]
  },
  {
   "cell_type": "code",
   "execution_count": 200,
   "metadata": {},
   "outputs": [
    {
     "data": {
      "text/html": [
       "<div>\n",
       "<style scoped>\n",
       "    .dataframe tbody tr th:only-of-type {\n",
       "        vertical-align: middle;\n",
       "    }\n",
       "\n",
       "    .dataframe tbody tr th {\n",
       "        vertical-align: top;\n",
       "    }\n",
       "\n",
       "    .dataframe thead th {\n",
       "        text-align: right;\n",
       "    }\n",
       "</style>\n",
       "<table border=\"1\" class=\"dataframe\">\n",
       "  <thead>\n",
       "    <tr style=\"text-align: right;\">\n",
       "      <th></th>\n",
       "      <th>id</th>\n",
       "      <th>host_since</th>\n",
       "      <th>host_response_time</th>\n",
       "      <th>host_response_rate</th>\n",
       "      <th>host_acceptance_rate</th>\n",
       "      <th>host_is_superhost</th>\n",
       "      <th>host_listings_count</th>\n",
       "      <th>host_total_listings_count</th>\n",
       "      <th>host_verifications</th>\n",
       "      <th>host_has_profile_pic</th>\n",
       "      <th>...</th>\n",
       "      <th>review_scores_checkin</th>\n",
       "      <th>review_scores_communication</th>\n",
       "      <th>review_scores_location</th>\n",
       "      <th>review_scores_value</th>\n",
       "      <th>instant_bookable</th>\n",
       "      <th>calculated_host_listings_count</th>\n",
       "      <th>calculated_host_listings_count_entire_homes</th>\n",
       "      <th>calculated_host_listings_count_private_rooms</th>\n",
       "      <th>calculated_host_listings_count_shared_rooms</th>\n",
       "      <th>reviews_per_month</th>\n",
       "    </tr>\n",
       "  </thead>\n",
       "  <tbody>\n",
       "    <tr>\n",
       "      <th>0</th>\n",
       "      <td>96033</td>\n",
       "      <td>2011-04-15</td>\n",
       "      <td>within an hour</td>\n",
       "      <td>100.00000</td>\n",
       "      <td>100.0</td>\n",
       "      <td>f</td>\n",
       "      <td>1</td>\n",
       "      <td>1</td>\n",
       "      <td>['email', 'phone', 'work_email']</td>\n",
       "      <td>t</td>\n",
       "      <td>...</td>\n",
       "      <td>4.870000</td>\n",
       "      <td>4.920000</td>\n",
       "      <td>4.400000</td>\n",
       "      <td>4.600000</td>\n",
       "      <td>f</td>\n",
       "      <td>1</td>\n",
       "      <td>1</td>\n",
       "      <td>0</td>\n",
       "      <td>0</td>\n",
       "      <td>1.660000</td>\n",
       "    </tr>\n",
       "    <tr>\n",
       "      <th>1</th>\n",
       "      <td>166473</td>\n",
       "      <td>2011-07-08</td>\n",
       "      <td>within a few hours</td>\n",
       "      <td>100.00000</td>\n",
       "      <td>78.0</td>\n",
       "      <td>t</td>\n",
       "      <td>4</td>\n",
       "      <td>4</td>\n",
       "      <td>['email', 'phone']</td>\n",
       "      <td>t</td>\n",
       "      <td>...</td>\n",
       "      <td>4.820000</td>\n",
       "      <td>4.910000</td>\n",
       "      <td>4.810000</td>\n",
       "      <td>4.700000</td>\n",
       "      <td>f</td>\n",
       "      <td>4</td>\n",
       "      <td>0</td>\n",
       "      <td>4</td>\n",
       "      <td>0</td>\n",
       "      <td>0.630000</td>\n",
       "    </tr>\n",
       "    <tr>\n",
       "      <th>2</th>\n",
       "      <td>212845</td>\n",
       "      <td>2011-05-23</td>\n",
       "      <td>within a few hours</td>\n",
       "      <td>100.00000</td>\n",
       "      <td>94.0</td>\n",
       "      <td>f</td>\n",
       "      <td>3</td>\n",
       "      <td>3</td>\n",
       "      <td>['email', 'phone']</td>\n",
       "      <td>t</td>\n",
       "      <td>...</td>\n",
       "      <td>4.930000</td>\n",
       "      <td>4.880000</td>\n",
       "      <td>4.570000</td>\n",
       "      <td>4.760000</td>\n",
       "      <td>f</td>\n",
       "      <td>2</td>\n",
       "      <td>0</td>\n",
       "      <td>1</td>\n",
       "      <td>1</td>\n",
       "      <td>0.300000</td>\n",
       "    </tr>\n",
       "    <tr>\n",
       "      <th>3</th>\n",
       "      <td>330760</td>\n",
       "      <td>2012-02-02</td>\n",
       "      <td>within an hour</td>\n",
       "      <td>100.00000</td>\n",
       "      <td>99.0</td>\n",
       "      <td>f</td>\n",
       "      <td>7</td>\n",
       "      <td>9</td>\n",
       "      <td>['email', 'phone']</td>\n",
       "      <td>t</td>\n",
       "      <td>...</td>\n",
       "      <td>4.690000</td>\n",
       "      <td>4.580000</td>\n",
       "      <td>4.480000</td>\n",
       "      <td>4.450000</td>\n",
       "      <td>t</td>\n",
       "      <td>6</td>\n",
       "      <td>4</td>\n",
       "      <td>2</td>\n",
       "      <td>0</td>\n",
       "      <td>0.380000</td>\n",
       "    </tr>\n",
       "    <tr>\n",
       "      <th>4</th>\n",
       "      <td>340024</td>\n",
       "      <td>2012-02-09</td>\n",
       "      <td>within an hour</td>\n",
       "      <td>100.00000</td>\n",
       "      <td>100.0</td>\n",
       "      <td>t</td>\n",
       "      <td>1</td>\n",
       "      <td>1</td>\n",
       "      <td>['email', 'phone']</td>\n",
       "      <td>t</td>\n",
       "      <td>...</td>\n",
       "      <td>4.870000</td>\n",
       "      <td>4.830000</td>\n",
       "      <td>4.720000</td>\n",
       "      <td>4.790000</td>\n",
       "      <td>f</td>\n",
       "      <td>1</td>\n",
       "      <td>1</td>\n",
       "      <td>0</td>\n",
       "      <td>0</td>\n",
       "      <td>1.860000</td>\n",
       "    </tr>\n",
       "    <tr>\n",
       "      <th>...</th>\n",
       "      <td>...</td>\n",
       "      <td>...</td>\n",
       "      <td>...</td>\n",
       "      <td>...</td>\n",
       "      <td>...</td>\n",
       "      <td>...</td>\n",
       "      <td>...</td>\n",
       "      <td>...</td>\n",
       "      <td>...</td>\n",
       "      <td>...</td>\n",
       "      <td>...</td>\n",
       "      <td>...</td>\n",
       "      <td>...</td>\n",
       "      <td>...</td>\n",
       "      <td>...</td>\n",
       "      <td>...</td>\n",
       "      <td>...</td>\n",
       "      <td>...</td>\n",
       "      <td>...</td>\n",
       "      <td>...</td>\n",
       "      <td>...</td>\n",
       "    </tr>\n",
       "    <tr>\n",
       "      <th>7593</th>\n",
       "      <td>1056480591998749035</td>\n",
       "      <td>2019-02-26</td>\n",
       "      <td>within an hour</td>\n",
       "      <td>100.00000</td>\n",
       "      <td>97.0</td>\n",
       "      <td>f</td>\n",
       "      <td>52</td>\n",
       "      <td>53</td>\n",
       "      <td>['email', 'phone', 'work_email']</td>\n",
       "      <td>t</td>\n",
       "      <td>...</td>\n",
       "      <td>4.742419</td>\n",
       "      <td>4.765037</td>\n",
       "      <td>4.704725</td>\n",
       "      <td>4.560159</td>\n",
       "      <td>t</td>\n",
       "      <td>20</td>\n",
       "      <td>20</td>\n",
       "      <td>0</td>\n",
       "      <td>0</td>\n",
       "      <td>1.469093</td>\n",
       "    </tr>\n",
       "    <tr>\n",
       "      <th>7594</th>\n",
       "      <td>1056634780623178557</td>\n",
       "      <td>2012-08-26</td>\n",
       "      <td>within an hour</td>\n",
       "      <td>100.00000</td>\n",
       "      <td>100.0</td>\n",
       "      <td>f</td>\n",
       "      <td>90</td>\n",
       "      <td>191</td>\n",
       "      <td>['email', 'phone', 'work_email']</td>\n",
       "      <td>t</td>\n",
       "      <td>...</td>\n",
       "      <td>4.742419</td>\n",
       "      <td>4.765037</td>\n",
       "      <td>4.704725</td>\n",
       "      <td>4.560159</td>\n",
       "      <td>t</td>\n",
       "      <td>67</td>\n",
       "      <td>67</td>\n",
       "      <td>0</td>\n",
       "      <td>0</td>\n",
       "      <td>1.469093</td>\n",
       "    </tr>\n",
       "    <tr>\n",
       "      <th>7595</th>\n",
       "      <td>1056663927854621164</td>\n",
       "      <td>2012-08-26</td>\n",
       "      <td>within an hour</td>\n",
       "      <td>100.00000</td>\n",
       "      <td>100.0</td>\n",
       "      <td>f</td>\n",
       "      <td>90</td>\n",
       "      <td>191</td>\n",
       "      <td>['email', 'phone', 'work_email']</td>\n",
       "      <td>t</td>\n",
       "      <td>...</td>\n",
       "      <td>4.742419</td>\n",
       "      <td>4.765037</td>\n",
       "      <td>4.704725</td>\n",
       "      <td>4.560159</td>\n",
       "      <td>t</td>\n",
       "      <td>67</td>\n",
       "      <td>67</td>\n",
       "      <td>0</td>\n",
       "      <td>0</td>\n",
       "      <td>1.469093</td>\n",
       "    </tr>\n",
       "    <tr>\n",
       "      <th>7596</th>\n",
       "      <td>1056694008736627484</td>\n",
       "      <td>2022-04-29</td>\n",
       "      <td>within a day</td>\n",
       "      <td>100.00000</td>\n",
       "      <td>100.0</td>\n",
       "      <td>f</td>\n",
       "      <td>2</td>\n",
       "      <td>2</td>\n",
       "      <td>['email', 'phone']</td>\n",
       "      <td>t</td>\n",
       "      <td>...</td>\n",
       "      <td>4.742419</td>\n",
       "      <td>4.765037</td>\n",
       "      <td>4.704725</td>\n",
       "      <td>4.560159</td>\n",
       "      <td>f</td>\n",
       "      <td>2</td>\n",
       "      <td>2</td>\n",
       "      <td>0</td>\n",
       "      <td>0</td>\n",
       "      <td>1.469093</td>\n",
       "    </tr>\n",
       "    <tr>\n",
       "      <th>7597</th>\n",
       "      <td>1057114997047818035</td>\n",
       "      <td>2023-04-08</td>\n",
       "      <td>None</td>\n",
       "      <td>96.24993</td>\n",
       "      <td>89.0</td>\n",
       "      <td>t</td>\n",
       "      <td>1</td>\n",
       "      <td>1</td>\n",
       "      <td>['phone']</td>\n",
       "      <td>t</td>\n",
       "      <td>...</td>\n",
       "      <td>4.742419</td>\n",
       "      <td>4.765037</td>\n",
       "      <td>4.704725</td>\n",
       "      <td>4.560159</td>\n",
       "      <td>f</td>\n",
       "      <td>1</td>\n",
       "      <td>1</td>\n",
       "      <td>0</td>\n",
       "      <td>0</td>\n",
       "      <td>1.469093</td>\n",
       "    </tr>\n",
       "  </tbody>\n",
       "</table>\n",
       "<p>7425 rows × 52 columns</p>\n",
       "</div>"
      ],
      "text/plain": [
       "                       id  host_since  host_response_time  host_response_rate  \\\n",
       "0                   96033  2011-04-15      within an hour           100.00000   \n",
       "1                  166473  2011-07-08  within a few hours           100.00000   \n",
       "2                  212845  2011-05-23  within a few hours           100.00000   \n",
       "3                  330760  2012-02-02      within an hour           100.00000   \n",
       "4                  340024  2012-02-09      within an hour           100.00000   \n",
       "...                   ...         ...                 ...                 ...   \n",
       "7593  1056480591998749035  2019-02-26      within an hour           100.00000   \n",
       "7594  1056634780623178557  2012-08-26      within an hour           100.00000   \n",
       "7595  1056663927854621164  2012-08-26      within an hour           100.00000   \n",
       "7596  1056694008736627484  2022-04-29        within a day           100.00000   \n",
       "7597  1057114997047818035  2023-04-08                None            96.24993   \n",
       "\n",
       "      host_acceptance_rate host_is_superhost  host_listings_count  \\\n",
       "0                    100.0                 f                    1   \n",
       "1                     78.0                 t                    4   \n",
       "2                     94.0                 f                    3   \n",
       "3                     99.0                 f                    7   \n",
       "4                    100.0                 t                    1   \n",
       "...                    ...               ...                  ...   \n",
       "7593                  97.0                 f                   52   \n",
       "7594                 100.0                 f                   90   \n",
       "7595                 100.0                 f                   90   \n",
       "7596                 100.0                 f                    2   \n",
       "7597                  89.0                 t                    1   \n",
       "\n",
       "      host_total_listings_count                host_verifications  \\\n",
       "0                             1  ['email', 'phone', 'work_email']   \n",
       "1                             4                ['email', 'phone']   \n",
       "2                             3                ['email', 'phone']   \n",
       "3                             9                ['email', 'phone']   \n",
       "4                             1                ['email', 'phone']   \n",
       "...                         ...                               ...   \n",
       "7593                         53  ['email', 'phone', 'work_email']   \n",
       "7594                        191  ['email', 'phone', 'work_email']   \n",
       "7595                        191  ['email', 'phone', 'work_email']   \n",
       "7596                          2                ['email', 'phone']   \n",
       "7597                          1                         ['phone']   \n",
       "\n",
       "     host_has_profile_pic  ... review_scores_checkin  \\\n",
       "0                       t  ...              4.870000   \n",
       "1                       t  ...              4.820000   \n",
       "2                       t  ...              4.930000   \n",
       "3                       t  ...              4.690000   \n",
       "4                       t  ...              4.870000   \n",
       "...                   ...  ...                   ...   \n",
       "7593                    t  ...              4.742419   \n",
       "7594                    t  ...              4.742419   \n",
       "7595                    t  ...              4.742419   \n",
       "7596                    t  ...              4.742419   \n",
       "7597                    t  ...              4.742419   \n",
       "\n",
       "     review_scores_communication  review_scores_location  review_scores_value  \\\n",
       "0                       4.920000                4.400000             4.600000   \n",
       "1                       4.910000                4.810000             4.700000   \n",
       "2                       4.880000                4.570000             4.760000   \n",
       "3                       4.580000                4.480000             4.450000   \n",
       "4                       4.830000                4.720000             4.790000   \n",
       "...                          ...                     ...                  ...   \n",
       "7593                    4.765037                4.704725             4.560159   \n",
       "7594                    4.765037                4.704725             4.560159   \n",
       "7595                    4.765037                4.704725             4.560159   \n",
       "7596                    4.765037                4.704725             4.560159   \n",
       "7597                    4.765037                4.704725             4.560159   \n",
       "\n",
       "     instant_bookable calculated_host_listings_count  \\\n",
       "0                   f                              1   \n",
       "1                   f                              4   \n",
       "2                   f                              2   \n",
       "3                   t                              6   \n",
       "4                   f                              1   \n",
       "...               ...                            ...   \n",
       "7593                t                             20   \n",
       "7594                t                             67   \n",
       "7595                t                             67   \n",
       "7596                f                              2   \n",
       "7597                f                              1   \n",
       "\n",
       "      calculated_host_listings_count_entire_homes  \\\n",
       "0                                               1   \n",
       "1                                               0   \n",
       "2                                               0   \n",
       "3                                               4   \n",
       "4                                               1   \n",
       "...                                           ...   \n",
       "7593                                           20   \n",
       "7594                                           67   \n",
       "7595                                           67   \n",
       "7596                                            2   \n",
       "7597                                            1   \n",
       "\n",
       "     calculated_host_listings_count_private_rooms  \\\n",
       "0                                               0   \n",
       "1                                               4   \n",
       "2                                               1   \n",
       "3                                               2   \n",
       "4                                               0   \n",
       "...                                           ...   \n",
       "7593                                            0   \n",
       "7594                                            0   \n",
       "7595                                            0   \n",
       "7596                                            0   \n",
       "7597                                            0   \n",
       "\n",
       "      calculated_host_listings_count_shared_rooms reviews_per_month  \n",
       "0                                               0          1.660000  \n",
       "1                                               0          0.630000  \n",
       "2                                               1          0.300000  \n",
       "3                                               0          0.380000  \n",
       "4                                               0          1.860000  \n",
       "...                                           ...               ...  \n",
       "7593                                            0          1.469093  \n",
       "7594                                            0          1.469093  \n",
       "7595                                            0          1.469093  \n",
       "7596                                            0          1.469093  \n",
       "7597                                            0          1.469093  \n",
       "\n",
       "[7425 rows x 52 columns]"
      ]
     },
     "execution_count": 200,
     "metadata": {},
     "output_type": "execute_result"
    }
   ],
   "source": [
    "listings_clean[listings_clean['review_scores_rating']>=3]"
   ]
  },
  {
   "cell_type": "code",
   "execution_count": 238,
   "metadata": {},
   "outputs": [
    {
     "data": {
      "text/plain": [
       "Text(0, 0.5, 'Price ($)')"
      ]
     },
     "execution_count": 238,
     "metadata": {},
     "output_type": "execute_result"
    },
    {
     "data": {
      "image/png": "[encoded data removed]",
      "text/plain": [
       "<Figure size 2500x600 with 1 Axes>"
      ]
     },
     "metadata": {},
     "output_type": "display_data"
    }
   ],
   "source": [
    "import matplotlib.ticker as mticker\n",
    "\n",
    "plt.figure(figsize = (25,6))\n",
    "barplot = sns.barplot(data=listings_outliers, x='host_response_rate', y='price', color='#FFA500')\n",
    "barplot.yaxis.set_major_formatter(mticker.FormatStrFormatter('%.1f'))\n",
    "plt.title('Relationship between host response rate and price')\n",
    "plt.xlabel('Host response rate (%)')\n",
    "plt.ylabel('Price ($)')\n",
    "\n",
    "\n",
    "#How can I change th: 96.2499301?\n"
   ]
  },
  {
   "cell_type": "markdown",
   "metadata": {},
   "source": [
    "Findings<br>\n",
    "The listings with a 100 percent review costs around 200, while we have listings with 62% that costs up to 255."
   ]
  },
  {
   "cell_type": "code",
   "execution_count": 272,
   "metadata": {},
   "outputs": [
    {
     "data": {
      "text/plain": [
       "([0, 1, 2, 3, 4, 5, 6, 7, 8, 9, 10, 11, 12, 13, 14, 15, 16, 17],\n",
       " [Text(0, 0, 'Entire rental unit'),\n",
       "  Text(1, 0, 'Entire home'),\n",
       "  Text(2, 0, 'Entire guest suite'),\n",
       "  Text(3, 0, 'Entire townhouse'),\n",
       "  Text(4, 0, 'Entire condo'),\n",
       "  Text(5, 0, 'Entire villa'),\n",
       "  Text(6, 0, 'Private room in rental unit'),\n",
       "  Text(7, 0, 'Entire cottage'),\n",
       "  Text(8, 0, 'Room in boutique hotel'),\n",
       "  Text(9, 0, 'Shared room in chalet'),\n",
       "  Text(10, 0, 'Entire serviced apartment'),\n",
       "  Text(11, 0, 'Entire guesthouse'),\n",
       "  Text(12, 0, 'Entire loft'),\n",
       "  Text(13, 0, 'Entire vacation home'),\n",
       "  Text(14, 0, 'Private room in bed and breakfast'),\n",
       "  Text(15, 0, 'Room in aparthotel'),\n",
       "  Text(16, 0, 'Entire chalet'),\n",
       "  Text(17, 0, 'Cave')])"
      ]
     },
     "execution_count": 272,
     "metadata": {},
     "output_type": "execute_result"
    },
    {
     "data": {
      "image/png": "[encoded data removed]",
      "text/plain": [
       "<Figure size 2500x600 with 1 Axes>"
      ]
     },
     "metadata": {},
     "output_type": "display_data"
    }
   ],
   "source": [
    "plt.figure(figsize = (25,6))\n",
    "sns.barplot(data=listings_outliers, x='property_type', y='price', color='lightgreen')\n",
    "plt.title('Relationship between property type and price', fontsize=20)\n",
    "plt.xlabel('Property type', fontsize=15)\n",
    "plt.ylabel('Price ($)', fontsize=15)\n",
    "plt.xticks(fontsize=6)\n"
   ]
  }
 ],
 "metadata": {
  "kernelspec": {
   "display_name": "Python 3",
   "language": "python",
   "name": "python3"
  },
  "language_info": {
   "codemirror_mode": {
    "name": "ipython",
    "version": 3
   },
   "file_extension": ".py",
   "mimetype": "text/x-python",
   "name": "python",
   "nbconvert_exporter": "python",
   "pygments_lexer": "ipython3",
   "version": "3.12.0"
  }
 },
 "nbformat": 4,
 "nbformat_minor": 2
}
